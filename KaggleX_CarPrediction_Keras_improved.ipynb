{
  "nbformat": 4,
  "nbformat_minor": 0,
  "metadata": {
    "colab": {
      "provenance": [],
      "authorship_tag": "ABX9TyPfyaUn6vz36dWWbPBmNQDU"
    },
    "kernelspec": {
      "name": "python3",
      "display_name": "Python 3"
    },
    "language_info": {
      "name": "python"
    }
  },
  "cells": [
    {
      "cell_type": "code",
      "execution_count": 1,
      "metadata": {
        "colab": {
          "base_uri": "https://localhost:8080/"
        },
        "id": "l3GLKFNXIClw",
        "outputId": "06ec1c24-4cf1-466f-b8b8-b7c48e3d5ca2"
      },
      "outputs": [
        {
          "output_type": "stream",
          "name": "stdout",
          "text": [
            "Collecting category_encoders\n",
            "  Downloading category_encoders-2.6.3-py2.py3-none-any.whl (81 kB)\n",
            "\u001b[2K     \u001b[90m━━━━━━━━━━━━━━━━━━━━━━━━━━━━━━━━━━━━━━━━\u001b[0m \u001b[32m81.9/81.9 kB\u001b[0m \u001b[31m2.2 MB/s\u001b[0m eta \u001b[36m0:00:00\u001b[0m\n",
            "\u001b[?25hRequirement already satisfied: numpy>=1.14.0 in /usr/local/lib/python3.10/dist-packages (from category_encoders) (1.25.2)\n",
            "Requirement already satisfied: scikit-learn>=0.20.0 in /usr/local/lib/python3.10/dist-packages (from category_encoders) (1.2.2)\n",
            "Requirement already satisfied: scipy>=1.0.0 in /usr/local/lib/python3.10/dist-packages (from category_encoders) (1.11.4)\n",
            "Requirement already satisfied: statsmodels>=0.9.0 in /usr/local/lib/python3.10/dist-packages (from category_encoders) (0.14.2)\n",
            "Requirement already satisfied: pandas>=1.0.5 in /usr/local/lib/python3.10/dist-packages (from category_encoders) (2.0.3)\n",
            "Requirement already satisfied: patsy>=0.5.1 in /usr/local/lib/python3.10/dist-packages (from category_encoders) (0.5.6)\n",
            "Requirement already satisfied: python-dateutil>=2.8.2 in /usr/local/lib/python3.10/dist-packages (from pandas>=1.0.5->category_encoders) (2.8.2)\n",
            "Requirement already satisfied: pytz>=2020.1 in /usr/local/lib/python3.10/dist-packages (from pandas>=1.0.5->category_encoders) (2023.4)\n",
            "Requirement already satisfied: tzdata>=2022.1 in /usr/local/lib/python3.10/dist-packages (from pandas>=1.0.5->category_encoders) (2024.1)\n",
            "Requirement already satisfied: six in /usr/local/lib/python3.10/dist-packages (from patsy>=0.5.1->category_encoders) (1.16.0)\n",
            "Requirement already satisfied: joblib>=1.1.1 in /usr/local/lib/python3.10/dist-packages (from scikit-learn>=0.20.0->category_encoders) (1.4.2)\n",
            "Requirement already satisfied: threadpoolctl>=2.0.0 in /usr/local/lib/python3.10/dist-packages (from scikit-learn>=0.20.0->category_encoders) (3.5.0)\n",
            "Requirement already satisfied: packaging>=21.3 in /usr/local/lib/python3.10/dist-packages (from statsmodels>=0.9.0->category_encoders) (24.1)\n",
            "Installing collected packages: category_encoders\n",
            "Successfully installed category_encoders-2.6.3\n"
          ]
        }
      ],
      "source": [
        "!pip install category_encoders\n",
        "\n",
        "import pandas as pd\n",
        "import numpy as np\n",
        "import seaborn as sns\n",
        "import matplotlib.pyplot as plt\n",
        "from sklearn.model_selection import train_test_split, KFold, cross_val_score\n",
        "from sklearn.preprocessing import StandardScaler\n",
        "import category_encoders as ce\n",
        "\n",
        "\n",
        "from tensorflow.keras.models import Sequential\n",
        "from tensorflow.keras.layers import Dense\n",
        "from tensorflow.keras.optimizers import Adam\n",
        "from tensorflow.keras.callbacks import EarlyStopping\n",
        "import matplotlib.pyplot as plt\n",
        "from sklearn.metrics import mean_squared_error, r2_score\n",
        "import os\n",
        "import re\n",
        "import warnings\n",
        "warnings.filterwarnings('ignore')"
      ]
    },
    {
      "cell_type": "code",
      "source": [
        "# Load the data\n",
        "train_df = pd.read_csv('/content/train.csv')\n",
        "test_df = pd.read_csv('/content/test.csv')\n"
      ],
      "metadata": {
        "id": "GYNvJw43Il1M"
      },
      "execution_count": 2,
      "outputs": []
    },
    {
      "cell_type": "code",
      "source": [
        "# Feature Engineering\n",
        "def extract_engine_power(engine_str):\n",
        "    match = re.search(r'(\\d+(\\.\\d+)?)HP', engine_str)\n",
        "    if match:\n",
        "        return float(match.group(1))\n",
        "    return 0\n",
        "\n",
        "train_df['engine_power'] = train_df['engine'].apply(extract_engine_power)\n",
        "test_df['engine_power'] = test_df['engine'].apply(extract_engine_power)\n",
        "\n",
        "# Drop the original engine column\n",
        "train_df.drop(columns=['engine'], inplace=True)\n",
        "test_df.drop(columns=['engine'], inplace=True)\n",
        "\n",
        "# Add age of the car\n",
        "train_df['age'] = 2024 - train_df['model_year']\n",
        "test_df['age'] = 2024 - test_df['model_year']\n"
      ],
      "metadata": {
        "id": "HDO5c8UJItCI"
      },
      "execution_count": 3,
      "outputs": []
    },
    {
      "cell_type": "code",
      "source": [
        "# Remove outliers based on the price column\n",
        "q1 = train_df['price'].quantile(0.25)\n",
        "q3 = train_df['price'].quantile(0.75)\n",
        "iqr = q3 - q1\n",
        "lower_bound = q1 - 1.5 * iqr\n",
        "upper_bound = q3 + 1.5 * iqr\n",
        "train_df = train_df[(train_df['price'] >= lower_bound) & (train_df['price'] <= upper_bound)]\n"
      ],
      "metadata": {
        "id": "BLQZfMVqI6np"
      },
      "execution_count": 4,
      "outputs": []
    },
    {
      "cell_type": "code",
      "source": [
        "# Separate the target column from the training set\n",
        "y = train_df['price']\n",
        "X_train_full = train_df.drop(columns=['price'])\n"
      ],
      "metadata": {
        "id": "1lbi6U8TI-_E"
      },
      "execution_count": 5,
      "outputs": []
    },
    {
      "cell_type": "code",
      "source": [
        "# Encoding categorical variables\n",
        "categorical_features = ['brand', 'model', 'fuel_type', 'transmission', 'ext_col', 'int_col', 'accident', 'clean_title']\n",
        "encoder = ce.OneHotEncoder(cols=categorical_features, handle_unknown='ignore', use_cat_names=True)\n",
        "X_train_encoded = encoder.fit_transform(X_train_full)\n",
        "X_test_encoded = encoder.transform(test_df)\n"
      ],
      "metadata": {
        "id": "VB6yIQssJDUr"
      },
      "execution_count": 6,
      "outputs": []
    },
    {
      "cell_type": "code",
      "source": [
        "# Ensure the test set has the same columns as the train set\n",
        "train_columns = set(X_train_encoded.columns)\n",
        "test_columns = set(X_test_encoded.columns)\n",
        "\n",
        "missing_train_cols = test_columns - train_columns\n",
        "missing_test_cols = train_columns - test_columns\n",
        "\n",
        "for col in missing_train_cols:\n",
        "    X_train_encoded[col] = 0\n",
        "for col in missing_test_cols:\n",
        "    X_test_encoded[col] = 0\n"
      ],
      "metadata": {
        "id": "OQ-e666LJINz"
      },
      "execution_count": 7,
      "outputs": []
    },
    {
      "cell_type": "code",
      "source": [
        "# Reorder columns to match\n",
        "X_test_encoded = X_test_encoded[X_train_encoded.columns]\n"
      ],
      "metadata": {
        "id": "XOzwd1kxJNPE"
      },
      "execution_count": 8,
      "outputs": []
    },
    {
      "cell_type": "code",
      "source": [
        "# Standardize numerical features\n",
        "numerical_features = ['model_year', 'milage', 'engine_power', 'age']\n",
        "scaler = StandardScaler()\n",
        "X_train_encoded[numerical_features] = scaler.fit_transform(X_train_encoded[numerical_features])\n",
        "X_test_encoded[numerical_features] = scaler.transform(X_test_encoded[numerical_features])\n"
      ],
      "metadata": {
        "id": "OWuhy7ITJQJX"
      },
      "execution_count": 9,
      "outputs": []
    },
    {
      "cell_type": "code",
      "source": [
        "# Train-test split\n",
        "X_train, X_val, y_train, y_val = train_test_split(X_train_encoded, y, test_size=0.2, random_state=42)\n"
      ],
      "metadata": {
        "id": "88_IbXFgJTK_"
      },
      "execution_count": 10,
      "outputs": []
    },
    {
      "cell_type": "code",
      "source": [
        "# Build the model\n",
        "model = Sequential([\n",
        "    Dense(128, input_dim=X_train.shape[1], activation='relu'),\n",
        "    Dense(64, activation='relu'),\n",
        "    Dense(32, activation='relu'),\n",
        "    Dense(1, activation='linear')  # Linear activation for regression\n",
        "])"
      ],
      "metadata": {
        "id": "mdnz8xXkJWr1"
      },
      "execution_count": 11,
      "outputs": []
    },
    {
      "cell_type": "code",
      "source": [
        "# Compile the model\n",
        "model.compile(optimizer=Adam(learning_rate=0.001), loss='mse', metrics=['mse'])\n"
      ],
      "metadata": {
        "id": "qMt04ycOJZvD"
      },
      "execution_count": 12,
      "outputs": []
    },
    {
      "cell_type": "code",
      "source": [
        "# Train the model with early stopping\n",
        "early_stopping = EarlyStopping(monitor='val_loss', patience=10, restore_best_weights=True)\n",
        "history = model.fit(X_train, y_train, validation_data=(X_val, y_val), epochs=100, batch_size=32, callbacks=[early_stopping])\n"
      ],
      "metadata": {
        "colab": {
          "base_uri": "https://localhost:8080/"
        },
        "id": "2CipJ0nwJe98",
        "outputId": "0aa6e46b-6279-43da-f945-66dae15685d2"
      },
      "execution_count": 13,
      "outputs": [
        {
          "output_type": "stream",
          "name": "stdout",
          "text": [
            "Epoch 1/100\n",
            "1280/1280 [==============================] - 11s 8ms/step - loss: 612196096.0000 - mse: 612196096.0000 - val_loss: 590203200.0000 - val_mse: 590203200.0000\n",
            "Epoch 2/100\n",
            "1280/1280 [==============================] - 10s 8ms/step - loss: 597836992.0000 - mse: 597836992.0000 - val_loss: 577905600.0000 - val_mse: 577905600.0000\n",
            "Epoch 3/100\n",
            "1280/1280 [==============================] - 9s 7ms/step - loss: 431757088.0000 - mse: 431757088.0000 - val_loss: 184785488.0000 - val_mse: 184785488.0000\n",
            "Epoch 4/100\n",
            "1280/1280 [==============================] - 8s 7ms/step - loss: 196411760.0000 - mse: 196411760.0000 - val_loss: 187608848.0000 - val_mse: 187608848.0000\n",
            "Epoch 5/100\n",
            "1280/1280 [==============================] - 10s 8ms/step - loss: 189191072.0000 - mse: 189191072.0000 - val_loss: 164346528.0000 - val_mse: 164346528.0000\n",
            "Epoch 6/100\n",
            "1280/1280 [==============================] - 9s 7ms/step - loss: 187749232.0000 - mse: 187749232.0000 - val_loss: 158079392.0000 - val_mse: 158079392.0000\n",
            "Epoch 7/100\n",
            "1280/1280 [==============================] - 8s 6ms/step - loss: 182665520.0000 - mse: 182665520.0000 - val_loss: 154222400.0000 - val_mse: 154222400.0000\n",
            "Epoch 8/100\n",
            "1280/1280 [==============================] - 9s 7ms/step - loss: 179893648.0000 - mse: 179893648.0000 - val_loss: 161407920.0000 - val_mse: 161407920.0000\n",
            "Epoch 9/100\n",
            "1280/1280 [==============================] - 9s 7ms/step - loss: 175893776.0000 - mse: 175893776.0000 - val_loss: 152022304.0000 - val_mse: 152022304.0000\n",
            "Epoch 10/100\n",
            "1280/1280 [==============================] - 8s 6ms/step - loss: 175141936.0000 - mse: 175141936.0000 - val_loss: 156335616.0000 - val_mse: 156335616.0000\n",
            "Epoch 11/100\n",
            "1280/1280 [==============================] - 10s 8ms/step - loss: 174234256.0000 - mse: 174234256.0000 - val_loss: 151753440.0000 - val_mse: 151753440.0000\n",
            "Epoch 12/100\n",
            "1280/1280 [==============================] - 10s 7ms/step - loss: 175546400.0000 - mse: 175546400.0000 - val_loss: 181124816.0000 - val_mse: 181124816.0000\n",
            "Epoch 13/100\n",
            "1280/1280 [==============================] - 8s 6ms/step - loss: 175971184.0000 - mse: 175971184.0000 - val_loss: 273633408.0000 - val_mse: 273633408.0000\n",
            "Epoch 14/100\n",
            "1280/1280 [==============================] - 9s 7ms/step - loss: 170027120.0000 - mse: 170027120.0000 - val_loss: 183891616.0000 - val_mse: 183891616.0000\n",
            "Epoch 15/100\n",
            "1280/1280 [==============================] - 9s 7ms/step - loss: 169154976.0000 - mse: 169154976.0000 - val_loss: 148102576.0000 - val_mse: 148102576.0000\n",
            "Epoch 16/100\n",
            "1280/1280 [==============================] - 9s 7ms/step - loss: 170207584.0000 - mse: 170207584.0000 - val_loss: 151677696.0000 - val_mse: 151677696.0000\n",
            "Epoch 17/100\n",
            "1280/1280 [==============================] - 9s 7ms/step - loss: 166632768.0000 - mse: 166632768.0000 - val_loss: 146698544.0000 - val_mse: 146698544.0000\n",
            "Epoch 18/100\n",
            "1280/1280 [==============================] - 10s 8ms/step - loss: 168130000.0000 - mse: 168130000.0000 - val_loss: 146678320.0000 - val_mse: 146678320.0000\n",
            "Epoch 19/100\n",
            "1280/1280 [==============================] - 8s 6ms/step - loss: 162841104.0000 - mse: 162841104.0000 - val_loss: 177788304.0000 - val_mse: 177788304.0000\n",
            "Epoch 20/100\n",
            "1280/1280 [==============================] - 10s 7ms/step - loss: 167808848.0000 - mse: 167808848.0000 - val_loss: 144431920.0000 - val_mse: 144431920.0000\n",
            "Epoch 21/100\n",
            "1280/1280 [==============================] - 9s 7ms/step - loss: 167022384.0000 - mse: 167022384.0000 - val_loss: 152202608.0000 - val_mse: 152202608.0000\n",
            "Epoch 22/100\n",
            "1280/1280 [==============================] - 8s 6ms/step - loss: 165032640.0000 - mse: 165032640.0000 - val_loss: 215739088.0000 - val_mse: 215739088.0000\n",
            "Epoch 23/100\n",
            "1280/1280 [==============================] - 9s 7ms/step - loss: 166260576.0000 - mse: 166260576.0000 - val_loss: 144074176.0000 - val_mse: 144074176.0000\n",
            "Epoch 24/100\n",
            "1280/1280 [==============================] - 9s 7ms/step - loss: 160671600.0000 - mse: 160671600.0000 - val_loss: 152144288.0000 - val_mse: 152144288.0000\n",
            "Epoch 25/100\n",
            "1280/1280 [==============================] - 9s 7ms/step - loss: 164812704.0000 - mse: 164812704.0000 - val_loss: 193898048.0000 - val_mse: 193898048.0000\n",
            "Epoch 26/100\n",
            "1280/1280 [==============================] - 9s 7ms/step - loss: 162466544.0000 - mse: 162466544.0000 - val_loss: 171750624.0000 - val_mse: 171750624.0000\n",
            "Epoch 27/100\n",
            "1280/1280 [==============================] - 10s 8ms/step - loss: 161891344.0000 - mse: 161891344.0000 - val_loss: 165034208.0000 - val_mse: 165034208.0000\n",
            "Epoch 28/100\n",
            "1280/1280 [==============================] - 8s 6ms/step - loss: 160757728.0000 - mse: 160757728.0000 - val_loss: 163687600.0000 - val_mse: 163687600.0000\n",
            "Epoch 29/100\n",
            "1280/1280 [==============================] - 10s 8ms/step - loss: 162722112.0000 - mse: 162722112.0000 - val_loss: 145532768.0000 - val_mse: 145532768.0000\n",
            "Epoch 30/100\n",
            "1280/1280 [==============================] - 10s 8ms/step - loss: 158749696.0000 - mse: 158749696.0000 - val_loss: 179311920.0000 - val_mse: 179311920.0000\n",
            "Epoch 31/100\n",
            "1280/1280 [==============================] - 9s 7ms/step - loss: 160811536.0000 - mse: 160811536.0000 - val_loss: 141172464.0000 - val_mse: 141172464.0000\n",
            "Epoch 32/100\n",
            "1280/1280 [==============================] - 10s 7ms/step - loss: 160715216.0000 - mse: 160715216.0000 - val_loss: 175905328.0000 - val_mse: 175905328.0000\n",
            "Epoch 33/100\n",
            "1280/1280 [==============================] - 10s 8ms/step - loss: 159171984.0000 - mse: 159171984.0000 - val_loss: 142060208.0000 - val_mse: 142060208.0000\n",
            "Epoch 34/100\n",
            "1280/1280 [==============================] - 9s 7ms/step - loss: 157700288.0000 - mse: 157700288.0000 - val_loss: 142706224.0000 - val_mse: 142706224.0000\n",
            "Epoch 35/100\n",
            "1280/1280 [==============================] - 9s 7ms/step - loss: 157862240.0000 - mse: 157862240.0000 - val_loss: 141473952.0000 - val_mse: 141473952.0000\n",
            "Epoch 36/100\n",
            "1280/1280 [==============================] - 10s 7ms/step - loss: 156050960.0000 - mse: 156050960.0000 - val_loss: 184950320.0000 - val_mse: 184950320.0000\n",
            "Epoch 37/100\n",
            "1280/1280 [==============================] - 8s 7ms/step - loss: 154647616.0000 - mse: 154647616.0000 - val_loss: 168140464.0000 - val_mse: 168140464.0000\n",
            "Epoch 38/100\n",
            "1280/1280 [==============================] - 10s 8ms/step - loss: 156689152.0000 - mse: 156689152.0000 - val_loss: 157093680.0000 - val_mse: 157093680.0000\n",
            "Epoch 39/100\n",
            "1280/1280 [==============================] - 10s 7ms/step - loss: 153583472.0000 - mse: 153583472.0000 - val_loss: 142315168.0000 - val_mse: 142315168.0000\n",
            "Epoch 40/100\n",
            "1280/1280 [==============================] - 9s 7ms/step - loss: 154483408.0000 - mse: 154483408.0000 - val_loss: 144318224.0000 - val_mse: 144318224.0000\n",
            "Epoch 41/100\n",
            "1280/1280 [==============================] - 10s 8ms/step - loss: 159640784.0000 - mse: 159640784.0000 - val_loss: 135754160.0000 - val_mse: 135754160.0000\n",
            "Epoch 42/100\n",
            "1280/1280 [==============================] - 10s 8ms/step - loss: 154296016.0000 - mse: 154296016.0000 - val_loss: 136943488.0000 - val_mse: 136943488.0000\n",
            "Epoch 43/100\n",
            "1280/1280 [==============================] - 9s 7ms/step - loss: 153706320.0000 - mse: 153706320.0000 - val_loss: 139354336.0000 - val_mse: 139354336.0000\n",
            "Epoch 44/100\n",
            "1280/1280 [==============================] - 9s 7ms/step - loss: 155278272.0000 - mse: 155278272.0000 - val_loss: 149832000.0000 - val_mse: 149832000.0000\n",
            "Epoch 45/100\n",
            "1280/1280 [==============================] - 10s 7ms/step - loss: 150574720.0000 - mse: 150574720.0000 - val_loss: 139295536.0000 - val_mse: 139295536.0000\n",
            "Epoch 46/100\n",
            "1280/1280 [==============================] - 9s 7ms/step - loss: 151087568.0000 - mse: 151087568.0000 - val_loss: 142762384.0000 - val_mse: 142762384.0000\n",
            "Epoch 47/100\n",
            "1280/1280 [==============================] - 9s 7ms/step - loss: 152196144.0000 - mse: 152196144.0000 - val_loss: 193631568.0000 - val_mse: 193631568.0000\n",
            "Epoch 48/100\n",
            "1280/1280 [==============================] - 10s 8ms/step - loss: 151943184.0000 - mse: 151943184.0000 - val_loss: 152023840.0000 - val_mse: 152023840.0000\n",
            "Epoch 49/100\n",
            "1280/1280 [==============================] - 11s 9ms/step - loss: 152180512.0000 - mse: 152180512.0000 - val_loss: 135614768.0000 - val_mse: 135614768.0000\n",
            "Epoch 50/100\n",
            "1280/1280 [==============================] - 9s 7ms/step - loss: 149776032.0000 - mse: 149776032.0000 - val_loss: 147757600.0000 - val_mse: 147757600.0000\n",
            "Epoch 51/100\n",
            "1280/1280 [==============================] - 10s 8ms/step - loss: 152442992.0000 - mse: 152442992.0000 - val_loss: 161848480.0000 - val_mse: 161848480.0000\n",
            "Epoch 52/100\n",
            "1280/1280 [==============================] - 10s 7ms/step - loss: 152395712.0000 - mse: 152395712.0000 - val_loss: 136673824.0000 - val_mse: 136673824.0000\n",
            "Epoch 53/100\n",
            "1280/1280 [==============================] - 9s 7ms/step - loss: 150132448.0000 - mse: 150132448.0000 - val_loss: 135521200.0000 - val_mse: 135521200.0000\n",
            "Epoch 54/100\n",
            "1280/1280 [==============================] - 10s 8ms/step - loss: 152436704.0000 - mse: 152436704.0000 - val_loss: 148211680.0000 - val_mse: 148211680.0000\n",
            "Epoch 55/100\n",
            "1280/1280 [==============================] - 10s 8ms/step - loss: 152530432.0000 - mse: 152530432.0000 - val_loss: 142878032.0000 - val_mse: 142878032.0000\n",
            "Epoch 56/100\n",
            "1280/1280 [==============================] - 9s 7ms/step - loss: 148224592.0000 - mse: 148224592.0000 - val_loss: 170701632.0000 - val_mse: 170701632.0000\n",
            "Epoch 57/100\n",
            "1280/1280 [==============================] - 9s 7ms/step - loss: 152568832.0000 - mse: 152568832.0000 - val_loss: 144647904.0000 - val_mse: 144647904.0000\n",
            "Epoch 58/100\n",
            "1280/1280 [==============================] - 10s 7ms/step - loss: 147430192.0000 - mse: 147430192.0000 - val_loss: 137717232.0000 - val_mse: 137717232.0000\n",
            "Epoch 59/100\n",
            "1280/1280 [==============================] - 9s 7ms/step - loss: 150390112.0000 - mse: 150390112.0000 - val_loss: 139165088.0000 - val_mse: 139165088.0000\n",
            "Epoch 60/100\n",
            "1280/1280 [==============================] - 9s 7ms/step - loss: 148359392.0000 - mse: 148359392.0000 - val_loss: 136739632.0000 - val_mse: 136739632.0000\n",
            "Epoch 61/100\n",
            "1280/1280 [==============================] - 9s 7ms/step - loss: 148865568.0000 - mse: 148865568.0000 - val_loss: 143174640.0000 - val_mse: 143174640.0000\n",
            "Epoch 62/100\n",
            "1280/1280 [==============================] - 9s 7ms/step - loss: 149852512.0000 - mse: 149852512.0000 - val_loss: 149631856.0000 - val_mse: 149631856.0000\n",
            "Epoch 63/100\n",
            "1280/1280 [==============================] - 9s 7ms/step - loss: 150149904.0000 - mse: 150149904.0000 - val_loss: 133724968.0000 - val_mse: 133724968.0000\n",
            "Epoch 64/100\n",
            "1280/1280 [==============================] - 10s 7ms/step - loss: 147785968.0000 - mse: 147785968.0000 - val_loss: 137446064.0000 - val_mse: 137446064.0000\n",
            "Epoch 65/100\n",
            "1280/1280 [==============================] - 9s 7ms/step - loss: 149710304.0000 - mse: 149710304.0000 - val_loss: 171727632.0000 - val_mse: 171727632.0000\n",
            "Epoch 66/100\n",
            "1280/1280 [==============================] - 9s 7ms/step - loss: 148496896.0000 - mse: 148496896.0000 - val_loss: 139587824.0000 - val_mse: 139587824.0000\n",
            "Epoch 67/100\n",
            "1280/1280 [==============================] - 10s 8ms/step - loss: 146065888.0000 - mse: 146065888.0000 - val_loss: 137511232.0000 - val_mse: 137511232.0000\n",
            "Epoch 68/100\n",
            "1280/1280 [==============================] - 9s 7ms/step - loss: 150498160.0000 - mse: 150498160.0000 - val_loss: 161271104.0000 - val_mse: 161271104.0000\n",
            "Epoch 69/100\n",
            "1280/1280 [==============================] - 9s 7ms/step - loss: 147144864.0000 - mse: 147144864.0000 - val_loss: 138389936.0000 - val_mse: 138389936.0000\n",
            "Epoch 70/100\n",
            "1280/1280 [==============================] - 9s 7ms/step - loss: 148387312.0000 - mse: 148387312.0000 - val_loss: 139433680.0000 - val_mse: 139433680.0000\n",
            "Epoch 71/100\n",
            "1280/1280 [==============================] - 9s 7ms/step - loss: 146606240.0000 - mse: 146606240.0000 - val_loss: 146145456.0000 - val_mse: 146145456.0000\n",
            "Epoch 72/100\n",
            "1280/1280 [==============================] - 9s 7ms/step - loss: 148509104.0000 - mse: 148509104.0000 - val_loss: 137816080.0000 - val_mse: 137816080.0000\n",
            "Epoch 73/100\n",
            "1280/1280 [==============================] - 10s 8ms/step - loss: 145450304.0000 - mse: 145450304.0000 - val_loss: 182236352.0000 - val_mse: 182236352.0000\n"
          ]
        }
      ]
    },
    {
      "cell_type": "code",
      "source": [
        "# Evaluate the model\n",
        "val_predictions = model.predict(X_val)\n",
        "mse = mean_squared_error(y_val, val_predictions)\n",
        "r2 = r2_score(y_val, val_predictions)\n",
        "\n",
        "print(f'MSE: {mse}')\n",
        "print(f'R2 Score: {r2}')\n"
      ],
      "metadata": {
        "colab": {
          "base_uri": "https://localhost:8080/"
        },
        "id": "3cp1QeWpJmJ8",
        "outputId": "6c082811-e7d4-4e60-ca07-5f9efc3fc3e3"
      },
      "execution_count": 14,
      "outputs": [
        {
          "output_type": "stream",
          "name": "stdout",
          "text": [
            "320/320 [==============================] - 1s 3ms/step\n",
            "MSE: 133724943.09138523\n",
            "R2 Score: 0.63500573146121\n"
          ]
        }
      ]
    },
    {
      "cell_type": "code",
      "source": [
        "# Plot training & validation loss values\n",
        "plt.plot(history.history['loss'])\n",
        "plt.plot(history.history['val_loss'])\n",
        "plt.title('Model loss')\n",
        "plt.ylabel('Loss')\n",
        "plt.xlabel('Epoch')\n",
        "plt.legend(['Train', 'Validation'], loc='upper left')\n",
        "plt.show()"
      ],
      "metadata": {
        "colab": {
          "base_uri": "https://localhost:8080/",
          "height": 472
        },
        "id": "RlUuIo_7J8KR",
        "outputId": "48d225b9-f221-4151-e8e9-618663826bdc"
      },
      "execution_count": 15,
      "outputs": [
        {
          "output_type": "display_data",
          "data": {
            "text/plain": [
              "<Figure size 640x480 with 1 Axes>"
            ],
            "image/png": "[encoded data removed]"
          },
          "metadata": {}
        }
      ]
    },
    {
      "cell_type": "code",
      "source": [
        "# Make predictions on the test set\n",
        "test_predictions = model.predict(X_test_encoded)"
      ],
      "metadata": {
        "colab": {
          "base_uri": "https://localhost:8080/"
        },
        "id": "qGMgYN-8J9gn",
        "outputId": "051d2eac-386a-4f33-a13d-00a46f654848"
      },
      "execution_count": 16,
      "outputs": [
        {
          "output_type": "stream",
          "name": "stdout",
          "text": [
            "1131/1131 [==============================] - 3s 2ms/step\n"
          ]
        }
      ]
    },
    {
      "cell_type": "code",
      "source": [
        "# Create a DataFrame for the results\n",
        "submission_df = pd.DataFrame({'id': test_df['id'], 'price': test_predictions.flatten()})"
      ],
      "metadata": {
        "id": "ucTPylLvKBXe"
      },
      "execution_count": 17,
      "outputs": []
    },
    {
      "cell_type": "code",
      "source": [
        "# Save predictions to a CSV file in the required format\n",
        "submission_df.to_csv('Test_Predictions_Keras_Improved.csv', index=False)"
      ],
      "metadata": {
        "id": "7GLwbixjKL0Q"
      },
      "execution_count": 19,
      "outputs": []
    }
  ]
}