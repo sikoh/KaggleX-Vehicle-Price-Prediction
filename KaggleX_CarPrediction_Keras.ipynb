{
  "nbformat": 4,
  "nbformat_minor": 0,
  "metadata": {
    "colab": {
      "provenance": [],
      "authorship_tag": "ABX9TyM9/jIcAh6JfIsDYksWIfxu"
    },
    "kernelspec": {
      "name": "python3",
      "display_name": "Python 3"
    },
    "language_info": {
      "name": "python"
    }
  },
  "cells": [
    {
      "cell_type": "code",
      "execution_count": 55,
      "metadata": {
        "colab": {
          "base_uri": "https://localhost:8080/"
        },
        "id": "OcDr3QbW78_h",
        "outputId": "920e17b3-c1dd-49d1-b173-57aca7d181a7"
      },
      "outputs": [
        {
          "output_type": "stream",
          "name": "stdout",
          "text": [
            "Requirement already satisfied: category_encoders in /usr/local/lib/python3.10/dist-packages (2.6.3)\n",
            "Requirement already satisfied: numpy>=1.14.0 in /usr/local/lib/python3.10/dist-packages (from category_encoders) (1.25.2)\n",
            "Requirement already satisfied: scikit-learn>=0.20.0 in /usr/local/lib/python3.10/dist-packages (from category_encoders) (1.2.2)\n",
            "Requirement already satisfied: scipy>=1.0.0 in /usr/local/lib/python3.10/dist-packages (from category_encoders) (1.11.4)\n",
            "Requirement already satisfied: statsmodels>=0.9.0 in /usr/local/lib/python3.10/dist-packages (from category_encoders) (0.14.2)\n",
            "Requirement already satisfied: pandas>=1.0.5 in /usr/local/lib/python3.10/dist-packages (from category_encoders) (2.0.3)\n",
            "Requirement already satisfied: patsy>=0.5.1 in /usr/local/lib/python3.10/dist-packages (from category_encoders) (0.5.6)\n",
            "Requirement already satisfied: python-dateutil>=2.8.2 in /usr/local/lib/python3.10/dist-packages (from pandas>=1.0.5->category_encoders) (2.8.2)\n",
            "Requirement already satisfied: pytz>=2020.1 in /usr/local/lib/python3.10/dist-packages (from pandas>=1.0.5->category_encoders) (2023.4)\n",
            "Requirement already satisfied: tzdata>=2022.1 in /usr/local/lib/python3.10/dist-packages (from pandas>=1.0.5->category_encoders) (2024.1)\n",
            "Requirement already satisfied: six in /usr/local/lib/python3.10/dist-packages (from patsy>=0.5.1->category_encoders) (1.16.0)\n",
            "Requirement already satisfied: joblib>=1.1.1 in /usr/local/lib/python3.10/dist-packages (from scikit-learn>=0.20.0->category_encoders) (1.4.2)\n",
            "Requirement already satisfied: threadpoolctl>=2.0.0 in /usr/local/lib/python3.10/dist-packages (from scikit-learn>=0.20.0->category_encoders) (3.5.0)\n",
            "Requirement already satisfied: packaging>=21.3 in /usr/local/lib/python3.10/dist-packages (from statsmodels>=0.9.0->category_encoders) (24.1)\n"
          ]
        }
      ],
      "source": [
        "!pip install category_encoders\n",
        "import pandas as pd\n",
        "\n",
        "import numpy as np\n",
        "import category_encoders as ce\n",
        "import re\n",
        "import matplotlib.pyplot as plt\n",
        "\n",
        "from sklearn.metrics import mean_squared_error, r2_score\n",
        "from sklearn.model_selection import train_test_split\n",
        "from sklearn.preprocessing import StandardScaler, LabelEncoder\n",
        "\n",
        "from tensorflow.keras.models import Sequential\n",
        "from tensorflow.keras.layers import Dense"
      ]
    },
    {
      "cell_type": "code",
      "source": [
        "# Load the data\n",
        "train_df = pd.read_csv('/content/train.csv')\n",
        "test_df = pd.read_csv('/content/test.csv')\n"
      ],
      "metadata": {
        "id": "m4s-Qhgi-Mhd"
      },
      "execution_count": 38,
      "outputs": []
    },
    {
      "cell_type": "code",
      "source": [
        "# Display the first few rows of the train dataset\n",
        "train_df.head()"
      ],
      "metadata": {
        "colab": {
          "base_uri": "https://localhost:8080/",
          "height": 695
        },
        "id": "I2c8woRr-WhU",
        "outputId": "d6bda359-bf9f-4303-b33d-a0cd64f42e14"
      },
      "execution_count": 39,
      "outputs": [
        {
          "output_type": "execute_result",
          "data": {
            "text/plain": [
              "   id    brand          model  model_year  milage fuel_type  \\\n",
              "0   0     Ford   F-150 Lariat        2018   74349  Gasoline   \n",
              "1   1      BMW          335 i        2007   80000  Gasoline   \n",
              "2   2   Jaguar      XF Luxury        2009   91491  Gasoline   \n",
              "3   3      BMW   X7 xDrive40i        2022    2437    Hybrid   \n",
              "4   4  Pontiac  Firebird Base        2001  111000  Gasoline   \n",
              "\n",
              "                                              engine  \\\n",
              "0      375.0HP 3.5L V6 Cylinder Engine Gasoline Fuel   \n",
              "1  300.0HP 3.0L Straight 6 Cylinder Engine Gasoli...   \n",
              "2       300.0HP 4.2L 8 Cylinder Engine Gasoline Fuel   \n",
              "3  335.0HP 3.0L Straight 6 Cylinder Engine Gasoli...   \n",
              "4      200.0HP 3.8L V6 Cylinder Engine Gasoline Fuel   \n",
              "\n",
              "                     transmission ext_col int_col       accident clean_title  \\\n",
              "0                    10-Speed A/T    Blue    Gray  None reported         Yes   \n",
              "1                     6-Speed M/T   Black   Black  None reported         Yes   \n",
              "2                     6-Speed A/T  Purple   Beige  None reported         Yes   \n",
              "3  Transmission w/Dual Shift Mode    Gray   Brown  None reported         Yes   \n",
              "4                             A/T   White   Black  None reported         Yes   \n",
              "\n",
              "   price  \n",
              "0  11000  \n",
              "1   8250  \n",
              "2  15000  \n",
              "3  63500  \n",
              "4   7850  "
            ],
            "text/html": [
              "\n",
              "  <div id=\"df-1dbd805b-43e2-497f-8753-8efe2ad15a14\" class=\"colab-df-container\">\n",
              "    <div>\n",
              "<style scoped>\n",
              "    .dataframe tbody tr th:only-of-type {\n",
              "        vertical-align: middle;\n",
              "    }\n",
              "\n",
              "    .dataframe tbody tr th {\n",
              "        vertical-align: top;\n",
              "    }\n",
              "\n",
              "    .dataframe thead th {\n",
              "        text-align: right;\n",
              "    }\n",
              "</style>\n",
              "<table border=\"1\" class=\"dataframe\">\n",
              "  <thead>\n",
              "    <tr style=\"text-align: right;\">\n",
              "      <th></th>\n",
              "      <th>id</th>\n",
              "      <th>brand</th>\n",
              "      <th>model</th>\n",
              "      <th>model_year</th>\n",
              "      <th>milage</th>\n",
              "      <th>fuel_type</th>\n",
              "      <th>engine</th>\n",
              "      <th>transmission</th>\n",
              "      <th>ext_col</th>\n",
              "      <th>int_col</th>\n",
              "      <th>accident</th>\n",
              "      <th>clean_title</th>\n",
              "      <th>price</th>\n",
              "    </tr>\n",
              "  </thead>\n",
              "  <tbody>\n",
              "    <tr>\n",
              "      <th>0</th>\n",
              "      <td>0</td>\n",
              "      <td>Ford</td>\n",
              "      <td>F-150 Lariat</td>\n",
              "      <td>2018</td>\n",
              "      <td>74349</td>\n",
              "      <td>Gasoline</td>\n",
              "      <td>375.0HP 3.5L V6 Cylinder Engine Gasoline Fuel</td>\n",
              "      <td>10-Speed A/T</td>\n",
              "      <td>Blue</td>\n",
              "      <td>Gray</td>\n",
              "      <td>None reported</td>\n",
              "      <td>Yes</td>\n",
              "      <td>11000</td>\n",
              "    </tr>\n",
              "    <tr>\n",
              "      <th>1</th>\n",
              "      <td>1</td>\n",
              "      <td>BMW</td>\n",
              "      <td>335 i</td>\n",
              "      <td>2007</td>\n",
              "      <td>80000</td>\n",
              "      <td>Gasoline</td>\n",
              "      <td>300.0HP 3.0L Straight 6 Cylinder Engine Gasoli...</td>\n",
              "      <td>6-Speed M/T</td>\n",
              "      <td>Black</td>\n",
              "      <td>Black</td>\n",
              "      <td>None reported</td>\n",
              "      <td>Yes</td>\n",
              "      <td>8250</td>\n",
              "    </tr>\n",
              "    <tr>\n",
              "      <th>2</th>\n",
              "      <td>2</td>\n",
              "      <td>Jaguar</td>\n",
              "      <td>XF Luxury</td>\n",
              "      <td>2009</td>\n",
              "      <td>91491</td>\n",
              "      <td>Gasoline</td>\n",
              "      <td>300.0HP 4.2L 8 Cylinder Engine Gasoline Fuel</td>\n",
              "      <td>6-Speed A/T</td>\n",
              "      <td>Purple</td>\n",
              "      <td>Beige</td>\n",
              "      <td>None reported</td>\n",
              "      <td>Yes</td>\n",
              "      <td>15000</td>\n",
              "    </tr>\n",
              "    <tr>\n",
              "      <th>3</th>\n",
              "      <td>3</td>\n",
              "      <td>BMW</td>\n",
              "      <td>X7 xDrive40i</td>\n",
              "      <td>2022</td>\n",
              "      <td>2437</td>\n",
              "      <td>Hybrid</td>\n",
              "      <td>335.0HP 3.0L Straight 6 Cylinder Engine Gasoli...</td>\n",
              "      <td>Transmission w/Dual Shift Mode</td>\n",
              "      <td>Gray</td>\n",
              "      <td>Brown</td>\n",
              "      <td>None reported</td>\n",
              "      <td>Yes</td>\n",
              "      <td>63500</td>\n",
              "    </tr>\n",
              "    <tr>\n",
              "      <th>4</th>\n",
              "      <td>4</td>\n",
              "      <td>Pontiac</td>\n",
              "      <td>Firebird Base</td>\n",
              "      <td>2001</td>\n",
              "      <td>111000</td>\n",
              "      <td>Gasoline</td>\n",
              "      <td>200.0HP 3.8L V6 Cylinder Engine Gasoline Fuel</td>\n",
              "      <td>A/T</td>\n",
              "      <td>White</td>\n",
              "      <td>Black</td>\n",
              "      <td>None reported</td>\n",
              "      <td>Yes</td>\n",
              "      <td>7850</td>\n",
              "    </tr>\n",
              "  </tbody>\n",
              "</table>\n",
              "</div>\n",
              "    <div class=\"colab-df-buttons\">\n",
              "\n",
              "  <div class=\"colab-df-container\">\n",
              "    <button class=\"colab-df-convert\" onclick=\"convertToInteractive('df-1dbd805b-43e2-497f-8753-8efe2ad15a14')\"\n",
              "            title=\"Convert this dataframe to an interactive table.\"\n",
              "            style=\"display:none;\">\n",
              "\n",
              "  <svg xmlns=\"http://www.w3.org/2000/svg\" height=\"24px\" viewBox=\"0 -960 960 960\">\n",
              "    <path d=\"M120-120v-720h720v720H120Zm60-500h600v-160H180v160Zm220 220h160v-160H400v160Zm0 220h160v-160H400v160ZM180-400h160v-160H180v160Zm440 0h160v-160H620v160ZM180-180h160v-160H180v160Zm440 0h160v-160H620v160Z\"/>\n",
              "  </svg>\n",
              "    </button>\n",
              "\n",
              "  <style>\n",
              "    .colab-df-container {\n",
              "      display:flex;\n",
              "      gap: 12px;\n",
              "    }\n",
              "\n",
              "    .colab-df-convert {\n",
              "      background-color: #E8F0FE;\n",
              "      border: none;\n",
              "      border-radius: 50%;\n",
              "      cursor: pointer;\n",
              "      display: none;\n",
              "      fill: #1967D2;\n",
              "      height: 32px;\n",
              "      padding: 0 0 0 0;\n",
              "      width: 32px;\n",
              "    }\n",
              "\n",
              "    .colab-df-convert:hover {\n",
              "      background-color: #E2EBFA;\n",
              "      box-shadow: 0px 1px 2px rgba(60, 64, 67, 0.3), 0px 1px 3px 1px rgba(60, 64, 67, 0.15);\n",
              "      fill: #174EA6;\n",
              "    }\n",
              "\n",
              "    .colab-df-buttons div {\n",
              "      margin-bottom: 4px;\n",
              "    }\n",
              "\n",
              "    [theme=dark] .colab-df-convert {\n",
              "      background-color: #3B4455;\n",
              "      fill: #D2E3FC;\n",
              "    }\n",
              "\n",
              "    [theme=dark] .colab-df-convert:hover {\n",
              "      background-color: #434B5C;\n",
              "      box-shadow: 0px 1px 3px 1px rgba(0, 0, 0, 0.15);\n",
              "      filter: drop-shadow(0px 1px 2px rgba(0, 0, 0, 0.3));\n",
              "      fill: #FFFFFF;\n",
              "    }\n",
              "  </style>\n",
              "\n",
              "    <script>\n",
              "      const buttonEl =\n",
              "        document.querySelector('#df-1dbd805b-43e2-497f-8753-8efe2ad15a14 button.colab-df-convert');\n",
              "      buttonEl.style.display =\n",
              "        google.colab.kernel.accessAllowed ? 'block' : 'none';\n",
              "\n",
              "      async function convertToInteractive(key) {\n",
              "        const element = document.querySelector('#df-1dbd805b-43e2-497f-8753-8efe2ad15a14');\n",
              "        const dataTable =\n",
              "          await google.colab.kernel.invokeFunction('convertToInteractive',\n",
              "                                                    [key], {});\n",
              "        if (!dataTable) return;\n",
              "\n",
              "        const docLinkHtml = 'Like what you see? Visit the ' +\n",
              "          '<a target=\"_blank\" href=https://colab.research.google.com/notebooks/data_table.ipynb>data table notebook</a>'\n",
              "          + ' to learn more about interactive tables.';\n",
              "        element.innerHTML = '';\n",
              "        dataTable['output_type'] = 'display_data';\n",
              "        await google.colab.output.renderOutput(dataTable, element);\n",
              "        const docLink = document.createElement('div');\n",
              "        docLink.innerHTML = docLinkHtml;\n",
              "        element.appendChild(docLink);\n",
              "      }\n",
              "    </script>\n",
              "  </div>\n",
              "\n",
              "\n",
              "<div id=\"df-6c88cd6f-feef-4d23-80ac-f2106c27f06e\">\n",
              "  <button class=\"colab-df-quickchart\" onclick=\"quickchart('df-6c88cd6f-feef-4d23-80ac-f2106c27f06e')\"\n",
              "            title=\"Suggest charts\"\n",
              "            style=\"display:none;\">\n",
              "\n",
              "<svg xmlns=\"http://www.w3.org/2000/svg\" height=\"24px\"viewBox=\"0 0 24 24\"\n",
              "     width=\"24px\">\n",
              "    <g>\n",
              "        <path d=\"M19 3H5c-1.1 0-2 .9-2 2v14c0 1.1.9 2 2 2h14c1.1 0 2-.9 2-2V5c0-1.1-.9-2-2-2zM9 17H7v-7h2v7zm4 0h-2V7h2v10zm4 0h-2v-4h2v4z\"/>\n",
              "    </g>\n",
              "</svg>\n",
              "  </button>\n",
              "\n",
              "<style>\n",
              "  .colab-df-quickchart {\n",
              "      --bg-color: #E8F0FE;\n",
              "      --fill-color: #1967D2;\n",
              "      --hover-bg-color: #E2EBFA;\n",
              "      --hover-fill-color: #174EA6;\n",
              "      --disabled-fill-color: #AAA;\n",
              "      --disabled-bg-color: #DDD;\n",
              "  }\n",
              "\n",
              "  [theme=dark] .colab-df-quickchart {\n",
              "      --bg-color: #3B4455;\n",
              "      --fill-color: #D2E3FC;\n",
              "      --hover-bg-color: #434B5C;\n",
              "      --hover-fill-color: #FFFFFF;\n",
              "      --disabled-bg-color: #3B4455;\n",
              "      --disabled-fill-color: #666;\n",
              "  }\n",
              "\n",
              "  .colab-df-quickchart {\n",
              "    background-color: var(--bg-color);\n",
              "    border: none;\n",
              "    border-radius: 50%;\n",
              "    cursor: pointer;\n",
              "    display: none;\n",
              "    fill: var(--fill-color);\n",
              "    height: 32px;\n",
              "    padding: 0;\n",
              "    width: 32px;\n",
              "  }\n",
              "\n",
              "  .colab-df-quickchart:hover {\n",
              "    background-color: var(--hover-bg-color);\n",
              "    box-shadow: 0 1px 2px rgba(60, 64, 67, 0.3), 0 1px 3px 1px rgba(60, 64, 67, 0.15);\n",
              "    fill: var(--button-hover-fill-color);\n",
              "  }\n",
              "\n",
              "  .colab-df-quickchart-complete:disabled,\n",
              "  .colab-df-quickchart-complete:disabled:hover {\n",
              "    background-color: var(--disabled-bg-color);\n",
              "    fill: var(--disabled-fill-color);\n",
              "    box-shadow: none;\n",
              "  }\n",
              "\n",
              "  .colab-df-spinner {\n",
              "    border: 2px solid var(--fill-color);\n",
              "    border-color: transparent;\n",
              "    border-bottom-color: var(--fill-color);\n",
              "    animation:\n",
              "      spin 1s steps(1) infinite;\n",
              "  }\n",
              "\n",
              "  @keyframes spin {\n",
              "    0% {\n",
              "      border-color: transparent;\n",
              "      border-bottom-color: var(--fill-color);\n",
              "      border-left-color: var(--fill-color);\n",
              "    }\n",
              "    20% {\n",
              "      border-color: transparent;\n",
              "      border-left-color: var(--fill-color);\n",
              "      border-top-color: var(--fill-color);\n",
              "    }\n",
              "    30% {\n",
              "      border-color: transparent;\n",
              "      border-left-color: var(--fill-color);\n",
              "      border-top-color: var(--fill-color);\n",
              "      border-right-color: var(--fill-color);\n",
              "    }\n",
              "    40% {\n",
              "      border-color: transparent;\n",
              "      border-right-color: var(--fill-color);\n",
              "      border-top-color: var(--fill-color);\n",
              "    }\n",
              "    60% {\n",
              "      border-color: transparent;\n",
              "      border-right-color: var(--fill-color);\n",
              "    }\n",
              "    80% {\n",
              "      border-color: transparent;\n",
              "      border-right-color: var(--fill-color);\n",
              "      border-bottom-color: var(--fill-color);\n",
              "    }\n",
              "    90% {\n",
              "      border-color: transparent;\n",
              "      border-bottom-color: var(--fill-color);\n",
              "    }\n",
              "  }\n",
              "</style>\n",
              "\n",
              "  <script>\n",
              "    async function quickchart(key) {\n",
              "      const quickchartButtonEl =\n",
              "        document.querySelector('#' + key + ' button');\n",
              "      quickchartButtonEl.disabled = true;  // To prevent multiple clicks.\n",
              "      quickchartButtonEl.classList.add('colab-df-spinner');\n",
              "      try {\n",
              "        const charts = await google.colab.kernel.invokeFunction(\n",
              "            'suggestCharts', [key], {});\n",
              "      } catch (error) {\n",
              "        console.error('Error during call to suggestCharts:', error);\n",
              "      }\n",
              "      quickchartButtonEl.classList.remove('colab-df-spinner');\n",
              "      quickchartButtonEl.classList.add('colab-df-quickchart-complete');\n",
              "    }\n",
              "    (() => {\n",
              "      let quickchartButtonEl =\n",
              "        document.querySelector('#df-6c88cd6f-feef-4d23-80ac-f2106c27f06e button');\n",
              "      quickchartButtonEl.style.display =\n",
              "        google.colab.kernel.accessAllowed ? 'block' : 'none';\n",
              "    })();\n",
              "  </script>\n",
              "</div>\n",
              "\n",
              "    </div>\n",
              "  </div>\n"
            ],
            "application/vnd.google.colaboratory.intrinsic+json": {
              "type": "dataframe",
              "variable_name": "train_df",
              "summary": "{\n  \"name\": \"train_df\",\n  \"rows\": 54273,\n  \"fields\": [\n    {\n      \"column\": \"id\",\n      \"properties\": {\n        \"dtype\": \"number\",\n        \"std\": 15667,\n        \"min\": 0,\n        \"max\": 54272,\n        \"num_unique_values\": 54273,\n        \"samples\": [\n          42508,\n          43045,\n          34855\n        ],\n        \"semantic_type\": \"\",\n        \"description\": \"\"\n      }\n    },\n    {\n      \"column\": \"brand\",\n      \"properties\": {\n        \"dtype\": \"category\",\n        \"num_unique_values\": 53,\n        \"samples\": [\n          \"Mazda\",\n          \"Rolls-Royce\",\n          \"Lucid\"\n        ],\n        \"semantic_type\": \"\",\n        \"description\": \"\"\n      }\n    },\n    {\n      \"column\": \"model\",\n      \"properties\": {\n        \"dtype\": \"category\",\n        \"num_unique_values\": 1827,\n        \"samples\": [\n          \"Rover Range Rover P525 Westminster\",\n          \"GL-Class GL 550\",\n          \"Sprinter Normal Roof\"\n        ],\n        \"semantic_type\": \"\",\n        \"description\": \"\"\n      }\n    },\n    {\n      \"column\": \"model_year\",\n      \"properties\": {\n        \"dtype\": \"number\",\n        \"std\": 5,\n        \"min\": 1974,\n        \"max\": 2024,\n        \"num_unique_values\": 34,\n        \"samples\": [\n          2006,\n          1999,\n          2000\n        ],\n        \"semantic_type\": \"\",\n        \"description\": \"\"\n      }\n    },\n    {\n      \"column\": \"milage\",\n      \"properties\": {\n        \"dtype\": \"number\",\n        \"std\": 50469,\n        \"min\": 100,\n        \"max\": 405000,\n        \"num_unique_values\": 3212,\n        \"samples\": [\n          102604,\n          23131,\n          32576\n        ],\n        \"semantic_type\": \"\",\n        \"description\": \"\"\n      }\n    },\n    {\n      \"column\": \"fuel_type\",\n      \"properties\": {\n        \"dtype\": \"category\",\n        \"num_unique_values\": 7,\n        \"samples\": [\n          \"Gasoline\",\n          \"Hybrid\",\n          \"Plug-In Hybrid\"\n        ],\n        \"semantic_type\": \"\",\n        \"description\": \"\"\n      }\n    },\n    {\n      \"column\": \"engine\",\n      \"properties\": {\n        \"dtype\": \"category\",\n        \"num_unique_values\": 1061,\n        \"samples\": [\n          \"382.0HP 3.0L Straight 6 Cylinder Engine Gasoline/Mild Electric Hybrid\",\n          \"451.0HP 6.3L 8 Cylinder Engine Gasoline Fuel\",\n          \"165.0HP 2.5L 4 Cylinder Engine Gasoline Fuel\"\n        ],\n        \"semantic_type\": \"\",\n        \"description\": \"\"\n      }\n    },\n    {\n      \"column\": \"transmission\",\n      \"properties\": {\n        \"dtype\": \"category\",\n        \"num_unique_values\": 46,\n        \"samples\": [\n          \"9-Speed Automatic with Auto-Shift\",\n          \"7-Speed Automatic\",\n          \"7-Speed Automatic with Auto-Shift\"\n        ],\n        \"semantic_type\": \"\",\n        \"description\": \"\"\n      }\n    },\n    {\n      \"column\": \"ext_col\",\n      \"properties\": {\n        \"dtype\": \"category\",\n        \"num_unique_values\": 260,\n        \"samples\": [\n          \"Glacial White Pearl\",\n          \"Gun Metallic\",\n          \"Balloon White\"\n        ],\n        \"semantic_type\": \"\",\n        \"description\": \"\"\n      }\n    },\n    {\n      \"column\": \"int_col\",\n      \"properties\": {\n        \"dtype\": \"category\",\n        \"num_unique_values\": 124,\n        \"samples\": [\n          \"Orange\",\n          \"Black / Express Red\",\n          \"Canberra Beige\"\n        ],\n        \"semantic_type\": \"\",\n        \"description\": \"\"\n      }\n    },\n    {\n      \"column\": \"accident\",\n      \"properties\": {\n        \"dtype\": \"category\",\n        \"num_unique_values\": 2,\n        \"samples\": [\n          \"At least 1 accident or damage reported\",\n          \"None reported\"\n        ],\n        \"semantic_type\": \"\",\n        \"description\": \"\"\n      }\n    },\n    {\n      \"column\": \"clean_title\",\n      \"properties\": {\n        \"dtype\": \"category\",\n        \"num_unique_values\": 1,\n        \"samples\": [\n          \"Yes\"\n        ],\n        \"semantic_type\": \"\",\n        \"description\": \"\"\n      }\n    },\n    {\n      \"column\": \"price\",\n      \"properties\": {\n        \"dtype\": \"number\",\n        \"std\": 72826,\n        \"min\": 2000,\n        \"max\": 2954083,\n        \"num_unique_values\": 1481,\n        \"samples\": [\n          315000\n        ],\n        \"semantic_type\": \"\",\n        \"description\": \"\"\n      }\n    }\n  ]\n}"
            }
          },
          "metadata": {},
          "execution_count": 39
        }
      ]
    },
    {
      "cell_type": "code",
      "source": [
        "# Check for missing values\n",
        "train_df.isna().sum()"
      ],
      "metadata": {
        "colab": {
          "base_uri": "https://localhost:8080/"
        },
        "id": "vA3gBfU9-bOn",
        "outputId": "a58ce241-418c-4363-c78d-733e06bd7570"
      },
      "execution_count": 40,
      "outputs": [
        {
          "output_type": "execute_result",
          "data": {
            "text/plain": [
              "id              0\n",
              "brand           0\n",
              "model           0\n",
              "model_year      0\n",
              "milage          0\n",
              "fuel_type       0\n",
              "engine          0\n",
              "transmission    0\n",
              "ext_col         0\n",
              "int_col         0\n",
              "accident        0\n",
              "clean_title     0\n",
              "price           0\n",
              "dtype: int64"
            ]
          },
          "metadata": {},
          "execution_count": 40
        }
      ]
    },
    {
      "cell_type": "code",
      "source": [
        "test_df.isna().sum()"
      ],
      "metadata": {
        "colab": {
          "base_uri": "https://localhost:8080/"
        },
        "id": "17XZUaem-yR2",
        "outputId": "6f055985-6771-4b5d-c178-aa6b02c7e732"
      },
      "execution_count": 41,
      "outputs": [
        {
          "output_type": "execute_result",
          "data": {
            "text/plain": [
              "id              0\n",
              "brand           0\n",
              "model           0\n",
              "model_year      0\n",
              "milage          0\n",
              "fuel_type       0\n",
              "engine          0\n",
              "transmission    0\n",
              "ext_col         0\n",
              "int_col         0\n",
              "accident        0\n",
              "clean_title     0\n",
              "dtype: int64"
            ]
          },
          "metadata": {},
          "execution_count": 41
        }
      ]
    },
    {
      "cell_type": "code",
      "source": [
        "# Extract numerical values from the engine column\n",
        "def extract_engine_power(engine_str):\n",
        "    match = re.search(r'(\\d+(\\.\\d+)?)HP', engine_str)\n",
        "    if match:\n",
        "        return float(match.group(1))\n",
        "    return 0\n",
        "\n",
        "train_df['engine_power'] = train_df['engine'].apply(extract_engine_power)\n",
        "test_df['engine_power'] = test_df['engine'].apply(extract_engine_power)\n"
      ],
      "metadata": {
        "id": "RWFBS8HfCgfb"
      },
      "execution_count": 42,
      "outputs": []
    },
    {
      "cell_type": "code",
      "source": [
        "# Drop the original engine column\n",
        "train_df.drop(columns=['engine'], inplace=True)\n",
        "test_df.drop(columns=['engine'], inplace=True)"
      ],
      "metadata": {
        "id": "YFY7MfknCi5O"
      },
      "execution_count": 43,
      "outputs": []
    },
    {
      "cell_type": "code",
      "source": [
        "# Separate the target column from the training set\n",
        "y = train_df['price']\n",
        "X_train_full = train_df.drop(columns=['price'])"
      ],
      "metadata": {
        "id": "vMfUnUerCrmG"
      },
      "execution_count": 44,
      "outputs": []
    },
    {
      "cell_type": "code",
      "source": [
        "# Encoding categorical variables using category_encoders\n",
        "categorical_features = ['brand', 'model', 'fuel_type', 'transmission', 'ext_col', 'int_col', 'accident', 'clean_title']"
      ],
      "metadata": {
        "id": "acAqGQb3CubP"
      },
      "execution_count": 45,
      "outputs": []
    },
    {
      "cell_type": "code",
      "source": [
        "# Fit the encoder on training data and transform both train and test data\n",
        "encoder = ce.OneHotEncoder(cols=categorical_features, handle_unknown='ignore', use_cat_names=True)\n",
        "X_train_encoded = encoder.fit_transform(X_train_full)\n",
        "X_test_encoded = encoder.transform(test_df)"
      ],
      "metadata": {
        "id": "LqeuYjeICzNf"
      },
      "execution_count": 46,
      "outputs": []
    },
    {
      "cell_type": "code",
      "source": [
        "# Ensure the test set has the same columns as the train set\n",
        "train_columns = set(X_train_encoded.columns)\n",
        "test_columns = set(X_test_encoded.columns)\n",
        "\n",
        "missing_train_cols = test_columns - train_columns\n",
        "missing_test_cols = train_columns - test_columns\n",
        "\n",
        "for col in missing_train_cols:\n",
        "    X_train_encoded[col] = 0\n",
        "for col in missing_test_cols:\n",
        "    X_test_encoded[col] = 0\n"
      ],
      "metadata": {
        "id": "8uPcyLf6C5z3"
      },
      "execution_count": 47,
      "outputs": []
    },
    {
      "cell_type": "code",
      "source": [
        "# Reorder columns to match\n",
        "X_test_encoded = X_test_encoded[X_train_encoded.columns]"
      ],
      "metadata": {
        "id": "CVvoDse4C8I-"
      },
      "execution_count": 48,
      "outputs": []
    },
    {
      "cell_type": "code",
      "source": [
        "# Standardize numerical features\n",
        "numerical_features = ['model_year', 'milage', 'engine_power']\n",
        "scaler = StandardScaler()\n",
        "X_train_encoded[numerical_features] = scaler.fit_transform(X_train_encoded[numerical_features])\n",
        "X_test_encoded[numerical_features] = scaler.transform(X_test_encoded[numerical_features])"
      ],
      "metadata": {
        "id": "Wc2IZkgYC_Q5"
      },
      "execution_count": 49,
      "outputs": []
    },
    {
      "cell_type": "code",
      "source": [
        "# Train-test split\n",
        "X_train, X_val, y_train, y_val = train_test_split(X_train_encoded, y, test_size=0.2, random_state=42)"
      ],
      "metadata": {
        "id": "fdZam27mCWYs"
      },
      "execution_count": 50,
      "outputs": []
    },
    {
      "cell_type": "code",
      "source": [
        "# Build the model\n",
        "model = Sequential([\n",
        "    Dense(64, input_dim=X_train.shape[1], activation='relu'),\n",
        "    Dense(32, activation='relu'),\n",
        "    Dense(16, activation='relu'),\n",
        "    Dense(1, activation='linear')  # Linear activation for regression\n",
        "])\n",
        "\n",
        "# Compile the model\n",
        "model.compile(optimizer='adam', loss='mse', metrics=['mse'])\n"
      ],
      "metadata": {
        "id": "qIEDo-6nDL7w"
      },
      "execution_count": 53,
      "outputs": []
    },
    {
      "cell_type": "code",
      "source": [
        "history = model.fit(X_train, y_train, validation_data=(X_val, y_val), epochs=50, batch_size=32)"
      ],
      "metadata": {
        "colab": {
          "base_uri": "https://localhost:8080/"
        },
        "id": "NiL9ho-uDjqF",
        "outputId": "0647e65b-e828-461e-ad1f-8d39b77e6797"
      },
      "execution_count": 54,
      "outputs": [
        {
          "output_type": "stream",
          "name": "stdout",
          "text": [
            "Epoch 1/50\n",
            "1357/1357 [==============================] - 9s 6ms/step - loss: 6321391104.0000 - mse: 6321391104.0000 - val_loss: 3320679424.0000 - val_mse: 3320679424.0000\n",
            "Epoch 2/50\n",
            "1357/1357 [==============================] - 13s 9ms/step - loss: 6282125312.0000 - mse: 6282125312.0000 - val_loss: 3331538176.0000 - val_mse: 3331538176.0000\n",
            "Epoch 3/50\n",
            "1357/1357 [==============================] - 13s 10ms/step - loss: 6276753408.0000 - mse: 6276753408.0000 - val_loss: 3319968000.0000 - val_mse: 3319968000.0000\n",
            "Epoch 4/50\n",
            "1357/1357 [==============================] - 18s 13ms/step - loss: 6276285440.0000 - mse: 6276285440.0000 - val_loss: 3307816704.0000 - val_mse: 3307816704.0000\n",
            "Epoch 5/50\n",
            "1357/1357 [==============================] - 9s 7ms/step - loss: 6271838208.0000 - mse: 6271838208.0000 - val_loss: 3311086336.0000 - val_mse: 3311086336.0000\n",
            "Epoch 6/50\n",
            "1357/1357 [==============================] - 8s 6ms/step - loss: 6266170880.0000 - mse: 6266170880.0000 - val_loss: 3288344320.0000 - val_mse: 3288344320.0000\n",
            "Epoch 7/50\n",
            "1357/1357 [==============================] - 8s 6ms/step - loss: 6244383744.0000 - mse: 6244383744.0000 - val_loss: 3438450176.0000 - val_mse: 3438450176.0000\n",
            "Epoch 8/50\n",
            "1357/1357 [==============================] - 9s 6ms/step - loss: 6191996416.0000 - mse: 6191996416.0000 - val_loss: 3193691904.0000 - val_mse: 3193691904.0000\n",
            "Epoch 9/50\n",
            "1357/1357 [==============================] - 7s 5ms/step - loss: 6013984768.0000 - mse: 6013984768.0000 - val_loss: 2813098752.0000 - val_mse: 2813098752.0000\n",
            "Epoch 10/50\n",
            "1357/1357 [==============================] - 9s 7ms/step - loss: 5743762944.0000 - mse: 5743762944.0000 - val_loss: 3492142848.0000 - val_mse: 3492142848.0000\n",
            "Epoch 11/50\n",
            "1357/1357 [==============================] - 8s 6ms/step - loss: 5703396864.0000 - mse: 5703396864.0000 - val_loss: 2569674752.0000 - val_mse: 2569674752.0000\n",
            "Epoch 12/50\n",
            "1357/1357 [==============================] - 8s 6ms/step - loss: 5651788288.0000 - mse: 5651788288.0000 - val_loss: 2529325312.0000 - val_mse: 2529325312.0000\n",
            "Epoch 13/50\n",
            "1357/1357 [==============================] - 8s 6ms/step - loss: 5629107712.0000 - mse: 5629107712.0000 - val_loss: 2541633536.0000 - val_mse: 2541633536.0000\n",
            "Epoch 14/50\n",
            "1357/1357 [==============================] - 7s 5ms/step - loss: 5628059136.0000 - mse: 5628059136.0000 - val_loss: 2556091648.0000 - val_mse: 2556091648.0000\n",
            "Epoch 15/50\n",
            "1357/1357 [==============================] - 9s 6ms/step - loss: 5586210304.0000 - mse: 5586210304.0000 - val_loss: 2577942272.0000 - val_mse: 2577942272.0000\n",
            "Epoch 16/50\n",
            "1357/1357 [==============================] - 7s 5ms/step - loss: 5583669760.0000 - mse: 5583669760.0000 - val_loss: 2514207232.0000 - val_mse: 2514207232.0000\n",
            "Epoch 17/50\n",
            "1357/1357 [==============================] - 8s 6ms/step - loss: 5678134272.0000 - mse: 5678134272.0000 - val_loss: 2529851136.0000 - val_mse: 2529851136.0000\n",
            "Epoch 18/50\n",
            "1357/1357 [==============================] - 9s 6ms/step - loss: 5589582848.0000 - mse: 5589582848.0000 - val_loss: 2500631040.0000 - val_mse: 2500631040.0000\n",
            "Epoch 19/50\n",
            "1357/1357 [==============================] - 8s 6ms/step - loss: 5557062656.0000 - mse: 5557062656.0000 - val_loss: 2561872896.0000 - val_mse: 2561872896.0000\n",
            "Epoch 20/50\n",
            "1357/1357 [==============================] - 9s 7ms/step - loss: 5562531328.0000 - mse: 5562531328.0000 - val_loss: 2572497920.0000 - val_mse: 2572497920.0000\n",
            "Epoch 21/50\n",
            "1357/1357 [==============================] - 8s 6ms/step - loss: 5565039616.0000 - mse: 5565039616.0000 - val_loss: 2513371136.0000 - val_mse: 2513371136.0000\n",
            "Epoch 22/50\n",
            "1357/1357 [==============================] - 8s 6ms/step - loss: 5565132800.0000 - mse: 5565132800.0000 - val_loss: 2515426048.0000 - val_mse: 2515426048.0000\n",
            "Epoch 23/50\n",
            "1357/1357 [==============================] - 9s 6ms/step - loss: 5540199936.0000 - mse: 5540199936.0000 - val_loss: 2583441664.0000 - val_mse: 2583441664.0000\n",
            "Epoch 24/50\n",
            "1357/1357 [==============================] - 7s 5ms/step - loss: 5566011392.0000 - mse: 5566011392.0000 - val_loss: 2495805696.0000 - val_mse: 2495805696.0000\n",
            "Epoch 25/50\n",
            "1357/1357 [==============================] - 9s 6ms/step - loss: 5555991040.0000 - mse: 5555991040.0000 - val_loss: 2481009152.0000 - val_mse: 2481009152.0000\n",
            "Epoch 26/50\n",
            "1357/1357 [==============================] - 7s 5ms/step - loss: 5523191808.0000 - mse: 5523191808.0000 - val_loss: 2475487488.0000 - val_mse: 2475487488.0000\n",
            "Epoch 27/50\n",
            "1357/1357 [==============================] - 9s 7ms/step - loss: 5529120256.0000 - mse: 5529120256.0000 - val_loss: 2507208448.0000 - val_mse: 2507208448.0000\n",
            "Epoch 28/50\n",
            "1357/1357 [==============================] - 8s 6ms/step - loss: 5584218624.0000 - mse: 5584218624.0000 - val_loss: 2532068608.0000 - val_mse: 2532068608.0000\n",
            "Epoch 29/50\n",
            "1357/1357 [==============================] - 7s 5ms/step - loss: 5519609856.0000 - mse: 5519609856.0000 - val_loss: 2475272192.0000 - val_mse: 2475272192.0000\n",
            "Epoch 30/50\n",
            "1357/1357 [==============================] - 9s 6ms/step - loss: 5571107840.0000 - mse: 5571107840.0000 - val_loss: 2473652992.0000 - val_mse: 2473652992.0000\n",
            "Epoch 31/50\n",
            "1357/1357 [==============================] - 7s 5ms/step - loss: 5553907712.0000 - mse: 5553907712.0000 - val_loss: 3022730496.0000 - val_mse: 3022730496.0000\n",
            "Epoch 32/50\n",
            "1357/1357 [==============================] - 9s 7ms/step - loss: 5526381568.0000 - mse: 5526381568.0000 - val_loss: 2475814912.0000 - val_mse: 2475814912.0000\n",
            "Epoch 33/50\n",
            "1357/1357 [==============================] - 7s 5ms/step - loss: 5518873600.0000 - mse: 5518873600.0000 - val_loss: 2464401664.0000 - val_mse: 2464401664.0000\n",
            "Epoch 34/50\n",
            "1357/1357 [==============================] - 9s 7ms/step - loss: 5508220416.0000 - mse: 5508220416.0000 - val_loss: 2471003136.0000 - val_mse: 2471003136.0000\n",
            "Epoch 35/50\n",
            "1357/1357 [==============================] - 9s 6ms/step - loss: 5525929984.0000 - mse: 5525929984.0000 - val_loss: 2501895680.0000 - val_mse: 2501895680.0000\n",
            "Epoch 36/50\n",
            "1357/1357 [==============================] - 7s 5ms/step - loss: 5505222656.0000 - mse: 5505222656.0000 - val_loss: 2531720448.0000 - val_mse: 2531720448.0000\n",
            "Epoch 37/50\n",
            "1357/1357 [==============================] - 9s 6ms/step - loss: 5508908544.0000 - mse: 5508908544.0000 - val_loss: 2635340288.0000 - val_mse: 2635340288.0000\n",
            "Epoch 38/50\n",
            "1357/1357 [==============================] - 7s 5ms/step - loss: 5509597696.0000 - mse: 5509597696.0000 - val_loss: 2499296256.0000 - val_mse: 2499296256.0000\n",
            "Epoch 39/50\n",
            "1357/1357 [==============================] - 9s 6ms/step - loss: 5505884672.0000 - mse: 5505884672.0000 - val_loss: 2484545536.0000 - val_mse: 2484545536.0000\n",
            "Epoch 40/50\n",
            "1357/1357 [==============================] - 7s 5ms/step - loss: 5542785536.0000 - mse: 5542785536.0000 - val_loss: 2541477632.0000 - val_mse: 2541477632.0000\n",
            "Epoch 41/50\n",
            "1357/1357 [==============================] - 9s 6ms/step - loss: 5525149696.0000 - mse: 5525149696.0000 - val_loss: 2554803968.0000 - val_mse: 2554803968.0000\n",
            "Epoch 42/50\n",
            "1357/1357 [==============================] - 9s 6ms/step - loss: 5481071104.0000 - mse: 5481071104.0000 - val_loss: 2463248384.0000 - val_mse: 2463248384.0000\n",
            "Epoch 43/50\n",
            "1357/1357 [==============================] - 9s 7ms/step - loss: 5504131584.0000 - mse: 5504131584.0000 - val_loss: 2764421120.0000 - val_mse: 2764421120.0000\n",
            "Epoch 44/50\n",
            "1357/1357 [==============================] - 9s 7ms/step - loss: 5500480000.0000 - mse: 5500480000.0000 - val_loss: 2442818560.0000 - val_mse: 2442818560.0000\n",
            "Epoch 45/50\n",
            "1357/1357 [==============================] - 8s 6ms/step - loss: 5523187712.0000 - mse: 5523187712.0000 - val_loss: 2461863936.0000 - val_mse: 2461863936.0000\n",
            "Epoch 46/50\n",
            "1357/1357 [==============================] - 8s 6ms/step - loss: 5499822592.0000 - mse: 5499822592.0000 - val_loss: 2464198912.0000 - val_mse: 2464198912.0000\n",
            "Epoch 47/50\n",
            "1357/1357 [==============================] - 9s 7ms/step - loss: 5490301952.0000 - mse: 5490301952.0000 - val_loss: 2443630848.0000 - val_mse: 2443630848.0000\n",
            "Epoch 48/50\n",
            "1357/1357 [==============================] - 7s 5ms/step - loss: 5498915328.0000 - mse: 5498915328.0000 - val_loss: 2464333568.0000 - val_mse: 2464333568.0000\n",
            "Epoch 49/50\n",
            "1357/1357 [==============================] - 9s 6ms/step - loss: 5513927168.0000 - mse: 5513927168.0000 - val_loss: 2487984896.0000 - val_mse: 2487984896.0000\n",
            "Epoch 50/50\n",
            "1357/1357 [==============================] - 7s 5ms/step - loss: 5496691200.0000 - mse: 5496691200.0000 - val_loss: 2472818688.0000 - val_mse: 2472818688.0000\n"
          ]
        }
      ]
    },
    {
      "cell_type": "code",
      "source": [
        "# Evaluate on validation set\n",
        "val_predictions = model.predict(X_val)\n",
        "mse = mean_squared_error(y_val, val_predictions)\n",
        "r2 = r2_score(y_val, val_predictions)\n",
        "\n",
        "print(f'MSE: {mse}')\n",
        "print(f'R2 Score: {r2}')"
      ],
      "metadata": {
        "colab": {
          "base_uri": "https://localhost:8080/"
        },
        "id": "fgPH8QacDr17",
        "outputId": "a14598b1-aa1b-4f07-cb53-955c27797ddb"
      },
      "execution_count": 56,
      "outputs": [
        {
          "output_type": "stream",
          "name": "stdout",
          "text": [
            "340/340 [==============================] - 1s 2ms/step\n",
            "MSE: 2472818351.575544\n",
            "R2 Score: 0.15847613688845819\n"
          ]
        }
      ]
    },
    {
      "cell_type": "code",
      "source": [
        "# Plot training & validation loss values\n",
        "plt.plot(history.history['loss'])\n",
        "plt.plot(history.history['val_loss'])\n",
        "plt.title('Model loss')\n",
        "plt.ylabel('Loss')\n",
        "plt.xlabel('Epoch')\n",
        "plt.legend(['Train', 'Validation'], loc='upper left')\n",
        "plt.show()"
      ],
      "metadata": {
        "colab": {
          "base_uri": "https://localhost:8080/",
          "height": 472
        },
        "id": "BYqqo6BCFq1I",
        "outputId": "bca9d2a4-645b-4b6d-b8f8-ecd64f2e6b59"
      },
      "execution_count": 57,
      "outputs": [
        {
          "output_type": "display_data",
          "data": {
            "text/plain": [
              "<Figure size 640x480 with 1 Axes>"
            ],
            "image/png": "[encoded data removed]"
          },
          "metadata": {}
        }
      ]
    },
    {
      "cell_type": "code",
      "source": [
        "# Make predictions on the test set\n",
        "test_predictions = model.predict(X_test_encoded)"
      ],
      "metadata": {
        "colab": {
          "base_uri": "https://localhost:8080/"
        },
        "id": "Aa67q8JPGG8F",
        "outputId": "724b0838-6032-4357-e7b0-dab2602bd904"
      },
      "execution_count": 58,
      "outputs": [
        {
          "output_type": "stream",
          "name": "stdout",
          "text": [
            "1131/1131 [==============================] - 3s 3ms/step\n"
          ]
        }
      ]
    },
    {
      "cell_type": "code",
      "source": [
        "# Create a DataFrame for the results\n",
        "submission_df = pd.DataFrame({'id': test_df['id'], 'price': test_predictions.flatten()})"
      ],
      "metadata": {
        "id": "EbWnqX3PGQ7Y"
      },
      "execution_count": 59,
      "outputs": []
    },
    {
      "cell_type": "code",
      "source": [
        "# Save predictions to a CSV file in the required format\n",
        "submission_df.to_csv('Test_Predictions_2_Keras.csv', index=False)"
      ],
      "metadata": {
        "id": "bnoGxISBGWNJ"
      },
      "execution_count": 60,
      "outputs": []
    }
  ]
}