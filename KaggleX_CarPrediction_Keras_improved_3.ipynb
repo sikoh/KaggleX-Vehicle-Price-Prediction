{
  "nbformat": 4,
  "nbformat_minor": 0,
  "metadata": {
    "colab": {
      "provenance": [],
      "authorship_tag": "ABX9TyNkxWjkKwr6PNGmyJQ/PKyJ"
    },
    "kernelspec": {
      "name": "python3",
      "display_name": "Python 3"
    },
    "language_info": {
      "name": "python"
    }
  },
  "cells": [
    {
      "cell_type": "code",
      "source": [
        "# Import libraries\n",
        "!pip install category_encoders\n",
        "import pandas as pd\n",
        "from sklearn.model_selection import train_test_split, GridSearchCV, KFold\n",
        "from sklearn.preprocessing import StandardScaler\n",
        "import category_encoders as ce\n",
        "import numpy as np\n",
        "import re\n",
        "import xgboost as xgb\n",
        "from tensorflow.keras.models import Sequential\n",
        "from tensorflow.keras.layers import Dense\n",
        "from tensorflow.keras.optimizers import Adam\n",
        "from tensorflow.keras.callbacks import EarlyStopping\n",
        "import matplotlib.pyplot as plt\n",
        "from sklearn.metrics import mean_squared_error, r2_score\n",
        "import os"
      ],
      "metadata": {
        "id": "H6JrH-wpdn3A",
        "outputId": "afcdc907-2ae6-40ae-a743-1ac577b2a7df",
        "colab": {
          "base_uri": "https://localhost:8080/"
        }
      },
      "execution_count": 24,
      "outputs": [
        {
          "output_type": "stream",
          "name": "stdout",
          "text": [
            "Requirement already satisfied: category_encoders in /usr/local/lib/python3.10/dist-packages (2.6.3)\n",
            "Requirement already satisfied: numpy>=1.14.0 in /usr/local/lib/python3.10/dist-packages (from category_encoders) (1.25.2)\n",
            "Requirement already satisfied: scikit-learn>=0.20.0 in /usr/local/lib/python3.10/dist-packages (from category_encoders) (1.2.2)\n",
            "Requirement already satisfied: scipy>=1.0.0 in /usr/local/lib/python3.10/dist-packages (from category_encoders) (1.11.4)\n",
            "Requirement already satisfied: statsmodels>=0.9.0 in /usr/local/lib/python3.10/dist-packages (from category_encoders) (0.14.2)\n",
            "Requirement already satisfied: pandas>=1.0.5 in /usr/local/lib/python3.10/dist-packages (from category_encoders) (2.0.3)\n",
            "Requirement already satisfied: patsy>=0.5.1 in /usr/local/lib/python3.10/dist-packages (from category_encoders) (0.5.6)\n",
            "Requirement already satisfied: python-dateutil>=2.8.2 in /usr/local/lib/python3.10/dist-packages (from pandas>=1.0.5->category_encoders) (2.8.2)\n",
            "Requirement already satisfied: pytz>=2020.1 in /usr/local/lib/python3.10/dist-packages (from pandas>=1.0.5->category_encoders) (2023.4)\n",
            "Requirement already satisfied: tzdata>=2022.1 in /usr/local/lib/python3.10/dist-packages (from pandas>=1.0.5->category_encoders) (2024.1)\n",
            "Requirement already satisfied: six in /usr/local/lib/python3.10/dist-packages (from patsy>=0.5.1->category_encoders) (1.16.0)\n",
            "Requirement already satisfied: joblib>=1.1.1 in /usr/local/lib/python3.10/dist-packages (from scikit-learn>=0.20.0->category_encoders) (1.4.2)\n",
            "Requirement already satisfied: threadpoolctl>=2.0.0 in /usr/local/lib/python3.10/dist-packages (from scikit-learn>=0.20.0->category_encoders) (3.5.0)\n",
            "Requirement already satisfied: packaging>=21.3 in /usr/local/lib/python3.10/dist-packages (from statsmodels>=0.9.0->category_encoders) (24.1)\n"
          ]
        }
      ]
    },
    {
      "cell_type": "code",
      "source": [
        "# Load the data\n",
        "train_df = pd.read_csv('/content/train.csv')\n",
        "test_df = pd.read_csv('/content/test.csv')"
      ],
      "metadata": {
        "id": "mMog0Onwdx30"
      },
      "execution_count": 25,
      "outputs": []
    },
    {
      "cell_type": "code",
      "source": [
        "# Function to limit categories to the top 5 most common\n",
        "def limit_categories(df, column):\n",
        "    top_5 = df[column].value_counts().index[:5]\n",
        "    df[column] = df[column].apply(lambda x: x if x in top_5 else 'Other')\n",
        "    return df"
      ],
      "metadata": {
        "id": "J80_VHeLdzmH"
      },
      "execution_count": 26,
      "outputs": []
    },
    {
      "cell_type": "code",
      "source": [
        "# Apply the function to both int_col and ext_col in train and test datasets\n",
        "train_df = limit_categories(train_df, 'int_col')\n",
        "train_df = limit_categories(train_df, 'ext_col')\n",
        "test_df = limit_categories(test_df, 'int_col')\n",
        "test_df = limit_categories(test_df, 'ext_col')"
      ],
      "metadata": {
        "id": "4j4MciXrd1Sk"
      },
      "execution_count": 27,
      "outputs": []
    },
    {
      "cell_type": "code",
      "source": [
        "# Extract numerical values from the engine column\n",
        "def extract_engine_power(engine_str):\n",
        "    match = re.search(r'(\\d+(\\.\\d+)?)HP', engine_str)\n",
        "    if match:\n",
        "        return float(match.group(1))\n",
        "    return 0"
      ],
      "metadata": {
        "id": "_RL-X60Hd3Cy"
      },
      "execution_count": null,
      "outputs": []
    },
    {
      "cell_type": "code",
      "source": [
        "# Apply the above function\n",
        "train_df['engine_power'] = train_df['engine'].apply(extract_engine_power)\n",
        "test_df['engine_power'] = test_df['engine'].apply(extract_engine_power)"
      ],
      "metadata": {
        "id": "TBvr4tDLd4rP"
      },
      "execution_count": 28,
      "outputs": []
    },
    {
      "cell_type": "code",
      "source": [
        "# Drop the original engine column\n",
        "train_df.drop(columns=['engine'], inplace=True)\n",
        "test_df.drop(columns=['engine'], inplace=True)"
      ],
      "metadata": {
        "id": "HtP27R-LeBeH"
      },
      "execution_count": 29,
      "outputs": []
    },
    {
      "cell_type": "code",
      "source": [
        "# Add age of the car\n",
        "train_df['age'] = 2024 - train_df['model_year']\n",
        "test_df['age'] = 2024 - test_df['model_year']"
      ],
      "metadata": {
        "id": "cyPb05_UeDiq"
      },
      "execution_count": 30,
      "outputs": []
    },
    {
      "cell_type": "code",
      "source": [
        "# Remove outliers based on the price column\n",
        "q1 = train_df['price'].quantile(0.25)\n",
        "q3 = train_df['price'].quantile(0.75)\n",
        "iqr = q3 - q1\n",
        "lower_bound = q1 - 1.5 * iqr\n",
        "upper_bound = q3 + 1.5 * iqr\n",
        "train_df = train_df[(train_df['price'] >= lower_bound) & (train_df['price'] <= upper_bound)]"
      ],
      "metadata": {
        "id": "whmJGuO8eFt-"
      },
      "execution_count": 31,
      "outputs": []
    },
    {
      "cell_type": "code",
      "source": [
        "# Separate the target column from the training set\n",
        "y = train_df['price']\n",
        "X_train_full = train_df.drop(columns=['price'])"
      ],
      "metadata": {
        "id": "axWVECZGeJco"
      },
      "execution_count": 32,
      "outputs": []
    },
    {
      "cell_type": "code",
      "source": [
        "# Encoding categorical variables\n",
        "categorical_features = ['brand', 'model', 'fuel_type', 'transmission', 'ext_col', 'int_col', 'accident', 'clean_title']\n",
        "encoder = ce.OneHotEncoder(cols=categorical_features, handle_unknown='ignore', use_cat_names=True)\n",
        "X_train_encoded = encoder.fit_transform(X_train_full)\n",
        "X_test_encoded = encoder.transform(test_df)"
      ],
      "metadata": {
        "id": "th0KQUwTeLrm"
      },
      "execution_count": 33,
      "outputs": []
    },
    {
      "cell_type": "code",
      "source": [
        "# Ensure the test set has the same columns as the train set\n",
        "train_columns = set(X_train_encoded.columns)\n",
        "test_columns = set(X_test_encoded.columns)\n",
        "\n",
        "missing_train_cols = test_columns - train_columns\n",
        "missing_test_cols = train_columns - test_columns\n",
        "\n",
        "for col in missing_train_cols:\n",
        "    X_train_encoded[col] = 0\n",
        "for col in missing_test_cols:\n",
        "    X_test_encoded[col] = 0"
      ],
      "metadata": {
        "id": "cj_vCJzceOVS"
      },
      "execution_count": 34,
      "outputs": []
    },
    {
      "cell_type": "code",
      "source": [
        "# Reorder columns to match\n",
        "X_test_encoded = X_test_encoded[X_train_encoded.columns]"
      ],
      "metadata": {
        "id": "lBzZoRMceSGL"
      },
      "execution_count": 35,
      "outputs": []
    },
    {
      "cell_type": "code",
      "source": [
        "# Standardize numerical features\n",
        "numerical_features = ['model_year', 'milage', 'engine_power', 'age']\n",
        "scaler = StandardScaler()\n",
        "X_train_encoded[numerical_features] = scaler.fit_transform(X_train_encoded[numerical_features])\n",
        "X_test_encoded[numerical_features] = scaler.transform(X_test_encoded[numerical_features])"
      ],
      "metadata": {
        "id": "POZqmljyeWgV"
      },
      "execution_count": 36,
      "outputs": []
    },
    {
      "cell_type": "code",
      "source": [
        "# Train-test split\n",
        "X_train, X_val, y_train, y_val = train_test_split(X_train_encoded, y, test_size=0.2, random_state=42)"
      ],
      "metadata": {
        "id": "jbG8RGOCeZYU"
      },
      "execution_count": 37,
      "outputs": []
    },
    {
      "cell_type": "code",
      "source": [
        "# Implement k-fold cross-validation for hyperparameter tuning\n",
        "kf = KFold(n_splits=3, shuffle=True, random_state=42)"
      ],
      "metadata": {
        "id": "gmqx7-wHebzA"
      },
      "execution_count": 38,
      "outputs": []
    },
    {
      "cell_type": "code",
      "source": [
        "# Initialize the XGBoost model\n",
        "xgb_model = xgb.XGBRegressor()"
      ],
      "metadata": {
        "id": "DKoNRAMAeeR2"
      },
      "execution_count": 39,
      "outputs": []
    },
    {
      "cell_type": "code",
      "source": [
        "# Set up the parameter grid for hyperparameter tuning\n",
        "param_grid = {\n",
        "    'n_estimators': [100, 200],\n",
        "    'learning_rate': [0.01, 0.1],\n",
        "    'max_depth': [3, 5],\n",
        "    'subsample': [0.7, 0.8],\n",
        "    'colsample_bytree': [0.7, 0.8]\n",
        "}"
      ],
      "metadata": {
        "id": "6b9ZFB_Veg0m"
      },
      "execution_count": 40,
      "outputs": []
    },
    {
      "cell_type": "code",
      "source": [
        "# Perform grid search with cross-validation\n",
        "grid_search = GridSearchCV(estimator=xgb_model, param_grid=param_grid, cv=kf, scoring='neg_mean_squared_error', verbose=2, n_jobs=-1)\n",
        "grid_search.fit(X_train, y_train)"
      ],
      "metadata": {
        "id": "1PPNxi8Eeik1",
        "outputId": "ecec2b14-abe8-4d5f-d4c0-f9904e5ad21b",
        "colab": {
          "base_uri": "https://localhost:8080/"
        }
      },
      "execution_count": null,
      "outputs": [
        {
          "output_type": "stream",
          "name": "stdout",
          "text": [
            "Fitting 3 folds for each of 32 candidates, totalling 96 fits\n"
          ]
        },
        {
          "output_type": "stream",
          "name": "stderr",
          "text": [
            "/usr/local/lib/python3.10/dist-packages/joblib/externals/loky/backend/fork_exec.py:38: RuntimeWarning: os.fork() was called. os.fork() is incompatible with multithreaded code, and JAX is multithreaded, so this will likely lead to a deadlock.\n",
            "  pid = os.fork()\n"
          ]
        }
      ]
    },
    {
      "cell_type": "code",
      "source": [
        "# Get the best model\n",
        "best_xgb_model = grid_search.best_estimator_"
      ],
      "metadata": {
        "id": "eKihe11oelL4"
      },
      "execution_count": null,
      "outputs": []
    },
    {
      "cell_type": "code",
      "source": [
        "# Evaluate the best model on the validation set\n",
        "val_predictions = best_xgb_model.predict(X_val)\n",
        "mse = mean_squared_error(y_val, val_predictions)\n",
        "r2 = r2_score(y_val, val_predictions)\n",
        "\n",
        "print(f'MSE: {mse}')\n",
        "print(f'R2 Score: {r2}')"
      ],
      "metadata": {
        "id": "Z_QQqneueodg"
      },
      "execution_count": null,
      "outputs": []
    },
    {
      "cell_type": "code",
      "source": [
        "# Make predictions on the test set\n",
        "test_predictions = best_xgb_model.predict(X_test_encoded)\n",
        "\n",
        "# Create a DataFrame for the results\n",
        "submission_df = pd.DataFrame({'id': test_df['id'], 'price': test_predictions.flatten()})\n",
        "\n",
        "# Save predictions to a CSV file in the required format\n",
        "submission_df.to_csv('Test_Predictions_Keras_Final_Best.csv', index=False)"
      ],
      "metadata": {
        "id": "pSZ1HxcYdDLk"
      },
      "execution_count": null,
      "outputs": []
    }
  ]
}