{
  "nbformat": 4,
  "nbformat_minor": 0,
  "metadata": {
    "colab": {
      "provenance": [],
      "authorship_tag": "ABX9TyOuiDgruGSCnaki7O5Kw4e6"
    },
    "kernelspec": {
      "name": "python3",
      "display_name": "Python 3"
    },
    "language_info": {
      "name": "python"
    }
  },
  "cells": [
    {
      "cell_type": "code",
      "source": [
        "!pip install category_encoders\n",
        "import pandas as pd\n",
        "import numpy as np\n",
        "from sklearn.model_selection import train_test_split\n",
        "from sklearn.preprocessing import StandardScaler\n",
        "from sklearn.impute import SimpleImputer\n",
        "import category_encoders as ce\n",
        "\n",
        "import re\n",
        "import tensorflow as tf\n",
        "from tensorflow.keras.models import Sequential\n",
        "from tensorflow.keras.layers import Dense, Dropout\n",
        "from tensorflow.keras.optimizers import Adam\n",
        "from tensorflow.keras.callbacks import EarlyStopping\n",
        "from sklearn.metrics import mean_squared_error, r2_score\n",
        "import matplotlib.pyplot as plt\n",
        "import os"
      ],
      "metadata": {
        "colab": {
          "base_uri": "https://localhost:8080/"
        },
        "id": "T3xmOsKht63k",
        "outputId": "f8bf42ac-9c5c-4aa6-82bb-c5603af11b29"
      },
      "execution_count": 63,
      "outputs": [
        {
          "output_type": "stream",
          "name": "stdout",
          "text": [
            "Requirement already satisfied: category_encoders in /usr/local/lib/python3.10/dist-packages (2.6.3)\n",
            "Requirement already satisfied: numpy>=1.14.0 in /usr/local/lib/python3.10/dist-packages (from category_encoders) (1.25.2)\n",
            "Requirement already satisfied: scikit-learn>=0.20.0 in /usr/local/lib/python3.10/dist-packages (from category_encoders) (1.2.2)\n",
            "Requirement already satisfied: scipy>=1.0.0 in /usr/local/lib/python3.10/dist-packages (from category_encoders) (1.11.4)\n",
            "Requirement already satisfied: statsmodels>=0.9.0 in /usr/local/lib/python3.10/dist-packages (from category_encoders) (0.14.2)\n",
            "Requirement already satisfied: pandas>=1.0.5 in /usr/local/lib/python3.10/dist-packages (from category_encoders) (2.0.3)\n",
            "Requirement already satisfied: patsy>=0.5.1 in /usr/local/lib/python3.10/dist-packages (from category_encoders) (0.5.6)\n",
            "Requirement already satisfied: python-dateutil>=2.8.2 in /usr/local/lib/python3.10/dist-packages (from pandas>=1.0.5->category_encoders) (2.8.2)\n",
            "Requirement already satisfied: pytz>=2020.1 in /usr/local/lib/python3.10/dist-packages (from pandas>=1.0.5->category_encoders) (2023.4)\n",
            "Requirement already satisfied: tzdata>=2022.1 in /usr/local/lib/python3.10/dist-packages (from pandas>=1.0.5->category_encoders) (2024.1)\n",
            "Requirement already satisfied: six in /usr/local/lib/python3.10/dist-packages (from patsy>=0.5.1->category_encoders) (1.16.0)\n",
            "Requirement already satisfied: joblib>=1.1.1 in /usr/local/lib/python3.10/dist-packages (from scikit-learn>=0.20.0->category_encoders) (1.4.2)\n",
            "Requirement already satisfied: threadpoolctl>=2.0.0 in /usr/local/lib/python3.10/dist-packages (from scikit-learn>=0.20.0->category_encoders) (3.5.0)\n",
            "Requirement already satisfied: packaging>=21.3 in /usr/local/lib/python3.10/dist-packages (from statsmodels>=0.9.0->category_encoders) (24.1)\n"
          ]
        }
      ]
    },
    {
      "cell_type": "code",
      "source": [
        "# Load the data\n",
        "train_df = pd.read_csv('/content/train.csv')\n",
        "test_df = pd.read_csv('/content/test.csv')"
      ],
      "metadata": {
        "id": "LVAt5-GfuCNG"
      },
      "execution_count": 82,
      "outputs": []
    },
    {
      "cell_type": "code",
      "source": [
        "train_df.head(1)"
      ],
      "metadata": {
        "colab": {
          "base_uri": "https://localhost:8080/",
          "height": 188
        },
        "id": "Ilnz4bj3PyyJ",
        "outputId": "2a767e9f-45b9-460f-ea62-5b772ca7cdd7"
      },
      "execution_count": 83,
      "outputs": [
        {
          "output_type": "execute_result",
          "data": {
            "text/plain": [
              "   id brand         model  model_year  milage fuel_type  \\\n",
              "0   0  Ford  F-150 Lariat        2018   74349  Gasoline   \n",
              "\n",
              "                                          engine  transmission ext_col  \\\n",
              "0  375.0HP 3.5L V6 Cylinder Engine Gasoline Fuel  10-Speed A/T    Blue   \n",
              "\n",
              "  int_col       accident clean_title  price  \n",
              "0    Gray  None reported         Yes  11000  "
            ],
            "text/html": [
              "\n",
              "  <div id=\"df-68b55fbb-706f-4a26-a306-318ddf68691c\" class=\"colab-df-container\">\n",
              "    <div>\n",
              "<style scoped>\n",
              "    .dataframe tbody tr th:only-of-type {\n",
              "        vertical-align: middle;\n",
              "    }\n",
              "\n",
              "    .dataframe tbody tr th {\n",
              "        vertical-align: top;\n",
              "    }\n",
              "\n",
              "    .dataframe thead th {\n",
              "        text-align: right;\n",
              "    }\n",
              "</style>\n",
              "<table border=\"1\" class=\"dataframe\">\n",
              "  <thead>\n",
              "    <tr style=\"text-align: right;\">\n",
              "      <th></th>\n",
              "      <th>id</th>\n",
              "      <th>brand</th>\n",
              "      <th>model</th>\n",
              "      <th>model_year</th>\n",
              "      <th>milage</th>\n",
              "      <th>fuel_type</th>\n",
              "      <th>engine</th>\n",
              "      <th>transmission</th>\n",
              "      <th>ext_col</th>\n",
              "      <th>int_col</th>\n",
              "      <th>accident</th>\n",
              "      <th>clean_title</th>\n",
              "      <th>price</th>\n",
              "    </tr>\n",
              "  </thead>\n",
              "  <tbody>\n",
              "    <tr>\n",
              "      <th>0</th>\n",
              "      <td>0</td>\n",
              "      <td>Ford</td>\n",
              "      <td>F-150 Lariat</td>\n",
              "      <td>2018</td>\n",
              "      <td>74349</td>\n",
              "      <td>Gasoline</td>\n",
              "      <td>375.0HP 3.5L V6 Cylinder Engine Gasoline Fuel</td>\n",
              "      <td>10-Speed A/T</td>\n",
              "      <td>Blue</td>\n",
              "      <td>Gray</td>\n",
              "      <td>None reported</td>\n",
              "      <td>Yes</td>\n",
              "      <td>11000</td>\n",
              "    </tr>\n",
              "  </tbody>\n",
              "</table>\n",
              "</div>\n",
              "    <div class=\"colab-df-buttons\">\n",
              "\n",
              "  <div class=\"colab-df-container\">\n",
              "    <button class=\"colab-df-convert\" onclick=\"convertToInteractive('df-68b55fbb-706f-4a26-a306-318ddf68691c')\"\n",
              "            title=\"Convert this dataframe to an interactive table.\"\n",
              "            style=\"display:none;\">\n",
              "\n",
              "  <svg xmlns=\"http://www.w3.org/2000/svg\" height=\"24px\" viewBox=\"0 -960 960 960\">\n",
              "    <path d=\"M120-120v-720h720v720H120Zm60-500h600v-160H180v160Zm220 220h160v-160H400v160Zm0 220h160v-160H400v160ZM180-400h160v-160H180v160Zm440 0h160v-160H620v160ZM180-180h160v-160H180v160Zm440 0h160v-160H620v160Z\"/>\n",
              "  </svg>\n",
              "    </button>\n",
              "\n",
              "  <style>\n",
              "    .colab-df-container {\n",
              "      display:flex;\n",
              "      gap: 12px;\n",
              "    }\n",
              "\n",
              "    .colab-df-convert {\n",
              "      background-color: #E8F0FE;\n",
              "      border: none;\n",
              "      border-radius: 50%;\n",
              "      cursor: pointer;\n",
              "      display: none;\n",
              "      fill: #1967D2;\n",
              "      height: 32px;\n",
              "      padding: 0 0 0 0;\n",
              "      width: 32px;\n",
              "    }\n",
              "\n",
              "    .colab-df-convert:hover {\n",
              "      background-color: #E2EBFA;\n",
              "      box-shadow: 0px 1px 2px rgba(60, 64, 67, 0.3), 0px 1px 3px 1px rgba(60, 64, 67, 0.15);\n",
              "      fill: #174EA6;\n",
              "    }\n",
              "\n",
              "    .colab-df-buttons div {\n",
              "      margin-bottom: 4px;\n",
              "    }\n",
              "\n",
              "    [theme=dark] .colab-df-convert {\n",
              "      background-color: #3B4455;\n",
              "      fill: #D2E3FC;\n",
              "    }\n",
              "\n",
              "    [theme=dark] .colab-df-convert:hover {\n",
              "      background-color: #434B5C;\n",
              "      box-shadow: 0px 1px 3px 1px rgba(0, 0, 0, 0.15);\n",
              "      filter: drop-shadow(0px 1px 2px rgba(0, 0, 0, 0.3));\n",
              "      fill: #FFFFFF;\n",
              "    }\n",
              "  </style>\n",
              "\n",
              "    <script>\n",
              "      const buttonEl =\n",
              "        document.querySelector('#df-68b55fbb-706f-4a26-a306-318ddf68691c button.colab-df-convert');\n",
              "      buttonEl.style.display =\n",
              "        google.colab.kernel.accessAllowed ? 'block' : 'none';\n",
              "\n",
              "      async function convertToInteractive(key) {\n",
              "        const element = document.querySelector('#df-68b55fbb-706f-4a26-a306-318ddf68691c');\n",
              "        const dataTable =\n",
              "          await google.colab.kernel.invokeFunction('convertToInteractive',\n",
              "                                                    [key], {});\n",
              "        if (!dataTable) return;\n",
              "\n",
              "        const docLinkHtml = 'Like what you see? Visit the ' +\n",
              "          '<a target=\"_blank\" href=https://colab.research.google.com/notebooks/data_table.ipynb>data table notebook</a>'\n",
              "          + ' to learn more about interactive tables.';\n",
              "        element.innerHTML = '';\n",
              "        dataTable['output_type'] = 'display_data';\n",
              "        await google.colab.output.renderOutput(dataTable, element);\n",
              "        const docLink = document.createElement('div');\n",
              "        docLink.innerHTML = docLinkHtml;\n",
              "        element.appendChild(docLink);\n",
              "      }\n",
              "    </script>\n",
              "  </div>\n",
              "\n",
              "\n",
              "    </div>\n",
              "  </div>\n"
            ],
            "application/vnd.google.colaboratory.intrinsic+json": {
              "type": "dataframe",
              "variable_name": "train_df",
              "summary": "{\n  \"name\": \"train_df\",\n  \"rows\": 54273,\n  \"fields\": [\n    {\n      \"column\": \"id\",\n      \"properties\": {\n        \"dtype\": \"number\",\n        \"std\": 15667,\n        \"min\": 0,\n        \"max\": 54272,\n        \"num_unique_values\": 54273,\n        \"samples\": [\n          42508,\n          43045,\n          34855\n        ],\n        \"semantic_type\": \"\",\n        \"description\": \"\"\n      }\n    },\n    {\n      \"column\": \"brand\",\n      \"properties\": {\n        \"dtype\": \"category\",\n        \"num_unique_values\": 53,\n        \"samples\": [\n          \"Mazda\",\n          \"Rolls-Royce\",\n          \"Lucid\"\n        ],\n        \"semantic_type\": \"\",\n        \"description\": \"\"\n      }\n    },\n    {\n      \"column\": \"model\",\n      \"properties\": {\n        \"dtype\": \"category\",\n        \"num_unique_values\": 1827,\n        \"samples\": [\n          \"Rover Range Rover P525 Westminster\",\n          \"GL-Class GL 550\",\n          \"Sprinter Normal Roof\"\n        ],\n        \"semantic_type\": \"\",\n        \"description\": \"\"\n      }\n    },\n    {\n      \"column\": \"model_year\",\n      \"properties\": {\n        \"dtype\": \"number\",\n        \"std\": 5,\n        \"min\": 1974,\n        \"max\": 2024,\n        \"num_unique_values\": 34,\n        \"samples\": [\n          2006,\n          1999,\n          2000\n        ],\n        \"semantic_type\": \"\",\n        \"description\": \"\"\n      }\n    },\n    {\n      \"column\": \"milage\",\n      \"properties\": {\n        \"dtype\": \"number\",\n        \"std\": 50469,\n        \"min\": 100,\n        \"max\": 405000,\n        \"num_unique_values\": 3212,\n        \"samples\": [\n          102604,\n          23131,\n          32576\n        ],\n        \"semantic_type\": \"\",\n        \"description\": \"\"\n      }\n    },\n    {\n      \"column\": \"fuel_type\",\n      \"properties\": {\n        \"dtype\": \"category\",\n        \"num_unique_values\": 7,\n        \"samples\": [\n          \"Gasoline\",\n          \"Hybrid\",\n          \"Plug-In Hybrid\"\n        ],\n        \"semantic_type\": \"\",\n        \"description\": \"\"\n      }\n    },\n    {\n      \"column\": \"engine\",\n      \"properties\": {\n        \"dtype\": \"category\",\n        \"num_unique_values\": 1061,\n        \"samples\": [\n          \"382.0HP 3.0L Straight 6 Cylinder Engine Gasoline/Mild Electric Hybrid\",\n          \"451.0HP 6.3L 8 Cylinder Engine Gasoline Fuel\",\n          \"165.0HP 2.5L 4 Cylinder Engine Gasoline Fuel\"\n        ],\n        \"semantic_type\": \"\",\n        \"description\": \"\"\n      }\n    },\n    {\n      \"column\": \"transmission\",\n      \"properties\": {\n        \"dtype\": \"category\",\n        \"num_unique_values\": 46,\n        \"samples\": [\n          \"9-Speed Automatic with Auto-Shift\",\n          \"7-Speed Automatic\",\n          \"7-Speed Automatic with Auto-Shift\"\n        ],\n        \"semantic_type\": \"\",\n        \"description\": \"\"\n      }\n    },\n    {\n      \"column\": \"ext_col\",\n      \"properties\": {\n        \"dtype\": \"category\",\n        \"num_unique_values\": 260,\n        \"samples\": [\n          \"Glacial White Pearl\",\n          \"Gun Metallic\",\n          \"Balloon White\"\n        ],\n        \"semantic_type\": \"\",\n        \"description\": \"\"\n      }\n    },\n    {\n      \"column\": \"int_col\",\n      \"properties\": {\n        \"dtype\": \"category\",\n        \"num_unique_values\": 124,\n        \"samples\": [\n          \"Orange\",\n          \"Black / Express Red\",\n          \"Canberra Beige\"\n        ],\n        \"semantic_type\": \"\",\n        \"description\": \"\"\n      }\n    },\n    {\n      \"column\": \"accident\",\n      \"properties\": {\n        \"dtype\": \"category\",\n        \"num_unique_values\": 2,\n        \"samples\": [\n          \"At least 1 accident or damage reported\",\n          \"None reported\"\n        ],\n        \"semantic_type\": \"\",\n        \"description\": \"\"\n      }\n    },\n    {\n      \"column\": \"clean_title\",\n      \"properties\": {\n        \"dtype\": \"category\",\n        \"num_unique_values\": 1,\n        \"samples\": [\n          \"Yes\"\n        ],\n        \"semantic_type\": \"\",\n        \"description\": \"\"\n      }\n    },\n    {\n      \"column\": \"price\",\n      \"properties\": {\n        \"dtype\": \"number\",\n        \"std\": 72826,\n        \"min\": 2000,\n        \"max\": 2954083,\n        \"num_unique_values\": 1481,\n        \"samples\": [\n          315000\n        ],\n        \"semantic_type\": \"\",\n        \"description\": \"\"\n      }\n    }\n  ]\n}"
            }
          },
          "metadata": {},
          "execution_count": 83
        }
      ]
    },
    {
      "cell_type": "code",
      "source": [
        "test_df.head(1)"
      ],
      "metadata": {
        "colab": {
          "base_uri": "https://localhost:8080/",
          "height": 188
        },
        "id": "vVv0QpfTP1p6",
        "outputId": "30f7ad41-1d8d-4afe-86f6-ebd94f01e0bc"
      },
      "execution_count": 84,
      "outputs": [
        {
          "output_type": "execute_result",
          "data": {
            "text/plain": [
              "      id          brand          model  model_year  milage fuel_type  \\\n",
              "0  54273  Mercedes-Benz  E-Class E 350        2014   73000  Gasoline   \n",
              "\n",
              "                                          engine transmission ext_col int_col  \\\n",
              "0  302.0HP 3.5L V6 Cylinder Engine Gasoline Fuel          A/T   White   Beige   \n",
              "\n",
              "        accident clean_title  \n",
              "0  None reported         Yes  "
            ],
            "text/html": [
              "\n",
              "  <div id=\"df-0f48d355-06db-4964-8319-f60a937a7dc3\" class=\"colab-df-container\">\n",
              "    <div>\n",
              "<style scoped>\n",
              "    .dataframe tbody tr th:only-of-type {\n",
              "        vertical-align: middle;\n",
              "    }\n",
              "\n",
              "    .dataframe tbody tr th {\n",
              "        vertical-align: top;\n",
              "    }\n",
              "\n",
              "    .dataframe thead th {\n",
              "        text-align: right;\n",
              "    }\n",
              "</style>\n",
              "<table border=\"1\" class=\"dataframe\">\n",
              "  <thead>\n",
              "    <tr style=\"text-align: right;\">\n",
              "      <th></th>\n",
              "      <th>id</th>\n",
              "      <th>brand</th>\n",
              "      <th>model</th>\n",
              "      <th>model_year</th>\n",
              "      <th>milage</th>\n",
              "      <th>fuel_type</th>\n",
              "      <th>engine</th>\n",
              "      <th>transmission</th>\n",
              "      <th>ext_col</th>\n",
              "      <th>int_col</th>\n",
              "      <th>accident</th>\n",
              "      <th>clean_title</th>\n",
              "    </tr>\n",
              "  </thead>\n",
              "  <tbody>\n",
              "    <tr>\n",
              "      <th>0</th>\n",
              "      <td>54273</td>\n",
              "      <td>Mercedes-Benz</td>\n",
              "      <td>E-Class E 350</td>\n",
              "      <td>2014</td>\n",
              "      <td>73000</td>\n",
              "      <td>Gasoline</td>\n",
              "      <td>302.0HP 3.5L V6 Cylinder Engine Gasoline Fuel</td>\n",
              "      <td>A/T</td>\n",
              "      <td>White</td>\n",
              "      <td>Beige</td>\n",
              "      <td>None reported</td>\n",
              "      <td>Yes</td>\n",
              "    </tr>\n",
              "  </tbody>\n",
              "</table>\n",
              "</div>\n",
              "    <div class=\"colab-df-buttons\">\n",
              "\n",
              "  <div class=\"colab-df-container\">\n",
              "    <button class=\"colab-df-convert\" onclick=\"convertToInteractive('df-0f48d355-06db-4964-8319-f60a937a7dc3')\"\n",
              "            title=\"Convert this dataframe to an interactive table.\"\n",
              "            style=\"display:none;\">\n",
              "\n",
              "  <svg xmlns=\"http://www.w3.org/2000/svg\" height=\"24px\" viewBox=\"0 -960 960 960\">\n",
              "    <path d=\"M120-120v-720h720v720H120Zm60-500h600v-160H180v160Zm220 220h160v-160H400v160Zm0 220h160v-160H400v160ZM180-400h160v-160H180v160Zm440 0h160v-160H620v160ZM180-180h160v-160H180v160Zm440 0h160v-160H620v160Z\"/>\n",
              "  </svg>\n",
              "    </button>\n",
              "\n",
              "  <style>\n",
              "    .colab-df-container {\n",
              "      display:flex;\n",
              "      gap: 12px;\n",
              "    }\n",
              "\n",
              "    .colab-df-convert {\n",
              "      background-color: #E8F0FE;\n",
              "      border: none;\n",
              "      border-radius: 50%;\n",
              "      cursor: pointer;\n",
              "      display: none;\n",
              "      fill: #1967D2;\n",
              "      height: 32px;\n",
              "      padding: 0 0 0 0;\n",
              "      width: 32px;\n",
              "    }\n",
              "\n",
              "    .colab-df-convert:hover {\n",
              "      background-color: #E2EBFA;\n",
              "      box-shadow: 0px 1px 2px rgba(60, 64, 67, 0.3), 0px 1px 3px 1px rgba(60, 64, 67, 0.15);\n",
              "      fill: #174EA6;\n",
              "    }\n",
              "\n",
              "    .colab-df-buttons div {\n",
              "      margin-bottom: 4px;\n",
              "    }\n",
              "\n",
              "    [theme=dark] .colab-df-convert {\n",
              "      background-color: #3B4455;\n",
              "      fill: #D2E3FC;\n",
              "    }\n",
              "\n",
              "    [theme=dark] .colab-df-convert:hover {\n",
              "      background-color: #434B5C;\n",
              "      box-shadow: 0px 1px 3px 1px rgba(0, 0, 0, 0.15);\n",
              "      filter: drop-shadow(0px 1px 2px rgba(0, 0, 0, 0.3));\n",
              "      fill: #FFFFFF;\n",
              "    }\n",
              "  </style>\n",
              "\n",
              "    <script>\n",
              "      const buttonEl =\n",
              "        document.querySelector('#df-0f48d355-06db-4964-8319-f60a937a7dc3 button.colab-df-convert');\n",
              "      buttonEl.style.display =\n",
              "        google.colab.kernel.accessAllowed ? 'block' : 'none';\n",
              "\n",
              "      async function convertToInteractive(key) {\n",
              "        const element = document.querySelector('#df-0f48d355-06db-4964-8319-f60a937a7dc3');\n",
              "        const dataTable =\n",
              "          await google.colab.kernel.invokeFunction('convertToInteractive',\n",
              "                                                    [key], {});\n",
              "        if (!dataTable) return;\n",
              "\n",
              "        const docLinkHtml = 'Like what you see? Visit the ' +\n",
              "          '<a target=\"_blank\" href=https://colab.research.google.com/notebooks/data_table.ipynb>data table notebook</a>'\n",
              "          + ' to learn more about interactive tables.';\n",
              "        element.innerHTML = '';\n",
              "        dataTable['output_type'] = 'display_data';\n",
              "        await google.colab.output.renderOutput(dataTable, element);\n",
              "        const docLink = document.createElement('div');\n",
              "        docLink.innerHTML = docLinkHtml;\n",
              "        element.appendChild(docLink);\n",
              "      }\n",
              "    </script>\n",
              "  </div>\n",
              "\n",
              "\n",
              "    </div>\n",
              "  </div>\n"
            ],
            "application/vnd.google.colaboratory.intrinsic+json": {
              "type": "dataframe",
              "variable_name": "test_df",
              "summary": "{\n  \"name\": \"test_df\",\n  \"rows\": 36183,\n  \"fields\": [\n    {\n      \"column\": \"id\",\n      \"properties\": {\n        \"dtype\": \"number\",\n        \"std\": 10445,\n        \"min\": 54273,\n        \"max\": 90455,\n        \"num_unique_values\": 36183,\n        \"samples\": [\n          82348,\n          70980,\n          58429\n        ],\n        \"semantic_type\": \"\",\n        \"description\": \"\"\n      }\n    },\n    {\n      \"column\": \"brand\",\n      \"properties\": {\n        \"dtype\": \"category\",\n        \"num_unique_values\": 53,\n        \"samples\": [\n          \"Jaguar\",\n          \"Lamborghini\",\n          \"FIAT\"\n        ],\n        \"semantic_type\": \"\",\n        \"description\": \"\"\n      }\n    },\n    {\n      \"column\": \"model\",\n      \"properties\": {\n        \"dtype\": \"category\",\n        \"num_unique_values\": 1791,\n        \"samples\": [\n          \"X6 sDrive35i\",\n          \"XC90 T6 Inscription\",\n          \"Escalade ESV Luxury\"\n        ],\n        \"semantic_type\": \"\",\n        \"description\": \"\"\n      }\n    },\n    {\n      \"column\": \"model_year\",\n      \"properties\": {\n        \"dtype\": \"number\",\n        \"std\": 5,\n        \"min\": 1974,\n        \"max\": 2024,\n        \"num_unique_values\": 34,\n        \"samples\": [\n          2012,\n          1998,\n          1996\n        ],\n        \"semantic_type\": \"\",\n        \"description\": \"\"\n      }\n    },\n    {\n      \"column\": \"milage\",\n      \"properties\": {\n        \"dtype\": \"number\",\n        \"std\": 50714,\n        \"min\": 100,\n        \"max\": 405000,\n        \"num_unique_values\": 2973,\n        \"samples\": [\n          15167,\n          32580,\n          35597\n        ],\n        \"semantic_type\": \"\",\n        \"description\": \"\"\n      }\n    },\n    {\n      \"column\": \"fuel_type\",\n      \"properties\": {\n        \"dtype\": \"category\",\n        \"num_unique_values\": 7,\n        \"samples\": [\n          \"Gasoline\",\n          \"E85 Flex Fuel\",\n          \"Plug-In Hybrid\"\n        ],\n        \"semantic_type\": \"\",\n        \"description\": \"\"\n      }\n    },\n    {\n      \"column\": \"engine\",\n      \"properties\": {\n        \"dtype\": \"category\",\n        \"num_unique_values\": 1038,\n        \"samples\": [\n          \"285.0HP 4.3L V6 Cylinder Engine Flex Fuel Capability\",\n          \"3.0L I6 24V DDI DOHC Turbo Diesel\",\n          \"150.0HP 2.0L 4 Cylinder Engine Gasoline Fuel\"\n        ],\n        \"semantic_type\": \"\",\n        \"description\": \"\"\n      }\n    },\n    {\n      \"column\": \"transmission\",\n      \"properties\": {\n        \"dtype\": \"category\",\n        \"num_unique_values\": 44,\n        \"samples\": [\n          \"SCHEDULED FOR OR IN PRODUCTION\",\n          \"\\u2013\",\n          \"8-Speed Automatic with Auto-Shift\"\n        ],\n        \"semantic_type\": \"\",\n        \"description\": \"\"\n      }\n    },\n    {\n      \"column\": \"ext_col\",\n      \"properties\": {\n        \"dtype\": \"category\",\n        \"num_unique_values\": 230,\n        \"samples\": [\n          \"Ice\",\n          \"Deep Black Pearl Effect\",\n          \"Purple\"\n        ],\n        \"semantic_type\": \"\",\n        \"description\": \"\"\n      }\n    },\n    {\n      \"column\": \"int_col\",\n      \"properties\": {\n        \"dtype\": \"category\",\n        \"num_unique_values\": 111,\n        \"samples\": [\n          \"Sahara Tan\",\n          \"Orange\",\n          \"Brown\"\n        ],\n        \"semantic_type\": \"\",\n        \"description\": \"\"\n      }\n    },\n    {\n      \"column\": \"accident\",\n      \"properties\": {\n        \"dtype\": \"category\",\n        \"num_unique_values\": 2,\n        \"samples\": [\n          \"At least 1 accident or damage reported\",\n          \"None reported\"\n        ],\n        \"semantic_type\": \"\",\n        \"description\": \"\"\n      }\n    },\n    {\n      \"column\": \"clean_title\",\n      \"properties\": {\n        \"dtype\": \"category\",\n        \"num_unique_values\": 1,\n        \"samples\": [\n          \"Yes\"\n        ],\n        \"semantic_type\": \"\",\n        \"description\": \"\"\n      }\n    }\n  ]\n}"
            }
          },
          "metadata": {},
          "execution_count": 84
        }
      ]
    },
    {
      "cell_type": "code",
      "source": [
        "# we will need these for the final file, but not for the model training\n",
        "ID_train = train_df['id']\n",
        "ID_test = test_df['id']"
      ],
      "metadata": {
        "id": "gPHHeTwYRUPy"
      },
      "execution_count": 85,
      "outputs": []
    },
    {
      "cell_type": "code",
      "source": [
        "# clean_title column is not highly correlated with the targeted column - price\n",
        "# there for we will drop both columns id and clean_title columns for both datasets\n",
        "train_df.drop(columns=['id', 'clean_title'], inplace=True)\n",
        "test_df.drop(columns=['id', 'clean_title'], inplace=True)"
      ],
      "metadata": {
        "id": "233SFBV2P-rw"
      },
      "execution_count": 86,
      "outputs": []
    },
    {
      "cell_type": "code",
      "source": [
        "# Function to limit categories to the top 5 most common\n",
        "def limit_categories(df, column):\n",
        "    top_5 = df[column].value_counts().index[:5]\n",
        "    df[column] = df[column].apply(lambda x: x if x in top_5 else 'Other')\n",
        "    return df\n",
        "\n",
        "# Apply the function to both int_col and ext_col in train and test datasets\n",
        "train_df = limit_categories(train_df, 'int_col')\n",
        "train_df = limit_categories(train_df, 'ext_col')\n",
        "test_df = limit_categories(test_df, 'int_col')\n",
        "test_df = limit_categories(test_df, 'ext_col')\n"
      ],
      "metadata": {
        "id": "OPSyEzdk18Ro"
      },
      "execution_count": 87,
      "outputs": []
    },
    {
      "cell_type": "code",
      "source": [
        "# Extract numerical values from the engine column\n",
        "def extract_engine_power(engine_str):\n",
        "    match = re.search(r'(\\d+(\\.\\d+)?)HP', engine_str)\n",
        "    if match:\n",
        "        return float(match.group(1))\n",
        "    return 0\n",
        "\n",
        "train_df['engine_power'] = train_df['engine'].apply(extract_engine_power)\n",
        "test_df['engine_power'] = test_df['engine'].apply(extract_engine_power)\n",
        "\n",
        "# Drop the original engine column\n",
        "train_df.drop(columns=['engine'], inplace=True)\n",
        "test_df.drop(columns=['engine'], inplace=True)\n"
      ],
      "metadata": {
        "id": "MGCvD7of1-WH"
      },
      "execution_count": 88,
      "outputs": []
    },
    {
      "cell_type": "code",
      "source": [
        "# Add age of the car\n",
        "train_df['age'] = 2024 - train_df['model_year']\n",
        "test_df['age'] = 2024 - test_df['model_year']\n"
      ],
      "metadata": {
        "id": "cbAp0V-t2Bmc"
      },
      "execution_count": 89,
      "outputs": []
    },
    {
      "cell_type": "code",
      "source": [
        "# Remove outliers based on the price column\n",
        "q1 = train_df['price'].quantile(0.25)\n",
        "q3 = train_df['price'].quantile(0.75)\n",
        "iqr = q3 - q1\n",
        "lower_bound = q1 - 1.5 * iqr\n",
        "upper_bound = q3 + 1.5 * iqr\n",
        "train_df = train_df[(train_df['price'] >= lower_bound) & (train_df['price'] <= upper_bound)]"
      ],
      "metadata": {
        "id": "B8hVEc_E2Fnv"
      },
      "execution_count": 90,
      "outputs": []
    },
    {
      "cell_type": "code",
      "source": [
        "# Separate numeric and categorical columns, excluding 'price' from test set\n",
        "numeric_cols = train_df.select_dtypes(include=[np.number]).columns.tolist()\n",
        "numeric_cols.remove('price')  # Remove 'price' since it's not in test_df\n",
        "categorical_cols = train_df.select_dtypes(exclude=[np.number]).columns.tolist()\n"
      ],
      "metadata": {
        "id": "W93rSJbZ2ZoL"
      },
      "execution_count": 91,
      "outputs": []
    },
    {
      "cell_type": "code",
      "source": [
        "# Separate the target column from the training set\n",
        "y = train_df['price']\n",
        "X_train_full = train_df.drop(columns=['price'])\n"
      ],
      "metadata": {
        "id": "pqNj7sqs2cYN"
      },
      "execution_count": 92,
      "outputs": []
    },
    {
      "cell_type": "code",
      "source": [
        "# Encoding categorical variables\n",
        "encoder = ce.OneHotEncoder(cols=categorical_cols, handle_unknown='ignore', use_cat_names=True)\n",
        "X_train_encoded = encoder.fit_transform(X_train_full)\n",
        "X_test_encoded = encoder.transform(test_df)\n"
      ],
      "metadata": {
        "id": "MM09pWce2mLi"
      },
      "execution_count": 93,
      "outputs": []
    },
    {
      "cell_type": "code",
      "source": [
        "# Standardize numerical features\n",
        "scaler = StandardScaler()\n",
        "X_train_encoded = scaler.fit_transform(X_train_encoded)\n",
        "X_test_encoded = scaler.transform(X_test_encoded)\n"
      ],
      "metadata": {
        "id": "b1yLNeE72ud2"
      },
      "execution_count": 94,
      "outputs": []
    },
    {
      "cell_type": "code",
      "source": [
        "# Train-test split\n",
        "X_train, X_val, y_train, y_val = train_test_split(X_train_encoded, y, test_size=0.2, random_state=42)\n"
      ],
      "metadata": {
        "id": "XXj7dk0r20-q"
      },
      "execution_count": 95,
      "outputs": []
    },
    {
      "cell_type": "code",
      "source": [
        "# Build the Keras model\n",
        "model = Sequential([\n",
        "    Dense(256, input_dim=X_train.shape[1], activation='relu'),\n",
        "    Dropout(0.3),\n",
        "    Dense(128, activation='relu'),\n",
        "    Dropout(0.3),\n",
        "    Dense(64, activation='relu'),\n",
        "    Dropout(0.3),\n",
        "    Dense(1, activation='linear')\n",
        "])"
      ],
      "metadata": {
        "id": "kV4s3sOi3FSJ"
      },
      "execution_count": 96,
      "outputs": []
    },
    {
      "cell_type": "code",
      "source": [
        "# Compile the model\n",
        "model.compile(optimizer=Adam(learning_rate=0.001), loss='mse', metrics=['mse'])\n"
      ],
      "metadata": {
        "id": "xKCJZlMN3JTv"
      },
      "execution_count": 97,
      "outputs": []
    },
    {
      "cell_type": "code",
      "source": [
        "\n",
        "# Early stopping\n",
        "early_stopping = EarlyStopping(monitor='val_loss', patience=10, restore_best_weights=True)\n",
        "\n",
        "# Train the model\n",
        "history = model.fit(X_train, y_train, validation_data=(X_val, y_val), epochs=100, batch_size=32, callbacks=[early_stopping])\n"
      ],
      "metadata": {
        "colab": {
          "base_uri": "https://localhost:8080/"
        },
        "id": "3xJhB7ds3Nz-",
        "outputId": "2f28def0-c5b4-4d10-8334-901d9edf6226"
      },
      "execution_count": 98,
      "outputs": [
        {
          "output_type": "stream",
          "name": "stdout",
          "text": [
            "Epoch 1/100\n",
            "1280/1280 [==============================] - 14s 10ms/step - loss: 464536480.0000 - mse: 464536480.0000 - val_loss: 288921312.0000 - val_mse: 288921312.0000\n",
            "Epoch 2/100\n",
            "1280/1280 [==============================] - 14s 11ms/step - loss: 275629920.0000 - mse: 275629920.0000 - val_loss: 230295424.0000 - val_mse: 230295424.0000\n",
            "Epoch 3/100\n",
            "1280/1280 [==============================] - 14s 11ms/step - loss: 236285184.0000 - mse: 236285184.0000 - val_loss: 197470832.0000 - val_mse: 197470832.0000\n",
            "Epoch 4/100\n",
            "1280/1280 [==============================] - 13s 10ms/step - loss: 211811184.0000 - mse: 211811184.0000 - val_loss: 172459024.0000 - val_mse: 172459024.0000\n",
            "Epoch 5/100\n",
            "1280/1280 [==============================] - 14s 11ms/step - loss: 193707248.0000 - mse: 193707248.0000 - val_loss: 159053792.0000 - val_mse: 159053792.0000\n",
            "Epoch 6/100\n",
            "1280/1280 [==============================] - 13s 10ms/step - loss: 180780000.0000 - mse: 180780000.0000 - val_loss: 149571024.0000 - val_mse: 149571024.0000\n",
            "Epoch 7/100\n",
            "1280/1280 [==============================] - 14s 11ms/step - loss: 173644704.0000 - mse: 173644704.0000 - val_loss: 146230192.0000 - val_mse: 146230192.0000\n",
            "Epoch 8/100\n",
            "1280/1280 [==============================] - 14s 11ms/step - loss: 167407520.0000 - mse: 167407520.0000 - val_loss: 141952224.0000 - val_mse: 141952224.0000\n",
            "Epoch 9/100\n",
            "1280/1280 [==============================] - 13s 10ms/step - loss: 163799552.0000 - mse: 163799552.0000 - val_loss: 139735664.0000 - val_mse: 139735664.0000\n",
            "Epoch 10/100\n",
            "1280/1280 [==============================] - 11s 8ms/step - loss: 162076880.0000 - mse: 162076880.0000 - val_loss: 136040976.0000 - val_mse: 136040976.0000\n",
            "Epoch 11/100\n",
            "1280/1280 [==============================] - 12s 9ms/step - loss: 157413456.0000 - mse: 157413456.0000 - val_loss: 136625024.0000 - val_mse: 136625024.0000\n",
            "Epoch 12/100\n",
            "1280/1280 [==============================] - 13s 10ms/step - loss: 155483504.0000 - mse: 155483504.0000 - val_loss: 136702880.0000 - val_mse: 136702880.0000\n",
            "Epoch 13/100\n",
            "1280/1280 [==============================] - 12s 10ms/step - loss: 154339104.0000 - mse: 154339104.0000 - val_loss: 135433616.0000 - val_mse: 135433616.0000\n",
            "Epoch 14/100\n",
            "1280/1280 [==============================] - 12s 9ms/step - loss: 153550752.0000 - mse: 153550752.0000 - val_loss: 135599712.0000 - val_mse: 135599712.0000\n",
            "Epoch 15/100\n",
            "1280/1280 [==============================] - 12s 9ms/step - loss: 152053360.0000 - mse: 152053360.0000 - val_loss: 134843360.0000 - val_mse: 134843360.0000\n",
            "Epoch 16/100\n",
            "1280/1280 [==============================] - 11s 9ms/step - loss: 150565840.0000 - mse: 150565840.0000 - val_loss: 135289040.0000 - val_mse: 135289040.0000\n",
            "Epoch 17/100\n",
            "1280/1280 [==============================] - 12s 10ms/step - loss: 149533040.0000 - mse: 149533040.0000 - val_loss: 131679888.0000 - val_mse: 131679888.0000\n",
            "Epoch 18/100\n",
            "1280/1280 [==============================] - 12s 10ms/step - loss: 147732144.0000 - mse: 147732144.0000 - val_loss: 131803304.0000 - val_mse: 131803304.0000\n",
            "Epoch 19/100\n",
            "1280/1280 [==============================] - 12s 9ms/step - loss: 147751280.0000 - mse: 147751280.0000 - val_loss: 132732064.0000 - val_mse: 132732064.0000\n",
            "Epoch 20/100\n",
            "1280/1280 [==============================] - 12s 9ms/step - loss: 145340880.0000 - mse: 145340880.0000 - val_loss: 131827096.0000 - val_mse: 131827096.0000\n",
            "Epoch 21/100\n",
            "1280/1280 [==============================] - 12s 9ms/step - loss: 144506192.0000 - mse: 144506192.0000 - val_loss: 131268648.0000 - val_mse: 131268648.0000\n",
            "Epoch 22/100\n",
            "1280/1280 [==============================] - 12s 9ms/step - loss: 143839248.0000 - mse: 143839248.0000 - val_loss: 131300008.0000 - val_mse: 131300008.0000\n",
            "Epoch 23/100\n",
            "1280/1280 [==============================] - 11s 9ms/step - loss: 144856992.0000 - mse: 144856992.0000 - val_loss: 131414704.0000 - val_mse: 131414704.0000\n",
            "Epoch 24/100\n",
            "1280/1280 [==============================] - 11s 8ms/step - loss: 143746080.0000 - mse: 143746080.0000 - val_loss: 131500624.0000 - val_mse: 131500624.0000\n",
            "Epoch 25/100\n",
            "1280/1280 [==============================] - 13s 10ms/step - loss: 141463792.0000 - mse: 141463792.0000 - val_loss: 132134408.0000 - val_mse: 132134408.0000\n",
            "Epoch 26/100\n",
            "1280/1280 [==============================] - 12s 9ms/step - loss: 139843200.0000 - mse: 139843200.0000 - val_loss: 133995576.0000 - val_mse: 133995576.0000\n",
            "Epoch 27/100\n",
            "1280/1280 [==============================] - 13s 10ms/step - loss: 140525264.0000 - mse: 140525264.0000 - val_loss: 136846320.0000 - val_mse: 136846320.0000\n",
            "Epoch 28/100\n",
            "1280/1280 [==============================] - 12s 9ms/step - loss: 140738032.0000 - mse: 140738032.0000 - val_loss: 138132992.0000 - val_mse: 138132992.0000\n",
            "Epoch 29/100\n",
            "1280/1280 [==============================] - 13s 10ms/step - loss: 139256416.0000 - mse: 139256416.0000 - val_loss: 138743760.0000 - val_mse: 138743760.0000\n",
            "Epoch 30/100\n",
            "1280/1280 [==============================] - 12s 10ms/step - loss: 138468848.0000 - mse: 138468848.0000 - val_loss: 140713280.0000 - val_mse: 140713280.0000\n",
            "Epoch 31/100\n",
            "1280/1280 [==============================] - 12s 9ms/step - loss: 138172272.0000 - mse: 138172272.0000 - val_loss: 149178896.0000 - val_mse: 149178896.0000\n"
          ]
        }
      ]
    },
    {
      "cell_type": "code",
      "source": [
        "# Evaluate the model\n",
        "val_predictions = model.predict(X_val)\n",
        "mse = mean_squared_error(y_val, val_predictions)\n",
        "r2 = r2_score(y_val, val_predictions)\n",
        "\n",
        "print(f'MSE: {mse}')\n",
        "print(f'R2 Score: {r2}')\n"
      ],
      "metadata": {
        "colab": {
          "base_uri": "https://localhost:8080/"
        },
        "id": "LBRoVFNP3UIH",
        "outputId": "c0828257-d335-45ea-aae5-c38d9f80fe31"
      },
      "execution_count": 99,
      "outputs": [
        {
          "output_type": "stream",
          "name": "stdout",
          "text": [
            "320/320 [==============================] - 1s 3ms/step\n",
            "MSE: 131268598.84928475\n",
            "R2 Score: 0.6417101767890516\n"
          ]
        }
      ]
    },
    {
      "cell_type": "code",
      "source": [
        "# Plot training & validation loss values\n",
        "plt.plot(history.history['loss'])\n",
        "plt.plot(history.history['val_loss'])\n",
        "plt.title('Model loss')\n",
        "plt.ylabel('Loss')\n",
        "plt.xlabel('Epoch')\n",
        "plt.legend(['Train', 'Validation'], loc='upper left')\n",
        "plt.show()\n",
        "\n",
        "\n"
      ],
      "metadata": {
        "colab": {
          "base_uri": "https://localhost:8080/",
          "height": 472
        },
        "id": "9Pbj0sgO3gGp",
        "outputId": "d9ef6f6b-285a-4a8e-c77e-a8d97cf3c284"
      },
      "execution_count": 100,
      "outputs": [
        {
          "output_type": "display_data",
          "data": {
            "text/plain": [
              "<Figure size 640x480 with 1 Axes>"
            ],
            "image/png": "[encoded data removed]"
          },
          "metadata": {}
        }
      ]
    },
    {
      "cell_type": "code",
      "source": [
        "# Make predictions on the test set\n",
        "test_predictions = model.predict(X_test_encoded)\n",
        "\n"
      ],
      "metadata": {
        "colab": {
          "base_uri": "https://localhost:8080/"
        },
        "id": "HK5F-zz_3nOP",
        "outputId": "dd2248a8-75b7-4209-958f-732298b9587c"
      },
      "execution_count": 101,
      "outputs": [
        {
          "output_type": "stream",
          "name": "stdout",
          "text": [
            "1131/1131 [==============================] - 3s 2ms/step\n"
          ]
        }
      ]
    },
    {
      "cell_type": "code",
      "source": [
        "# Flatten predictions array to 1D\n",
        "test_predictions_flat = test_predictions.flatten()\n",
        "\n",
        "# Replace any missing values in the predictions with the median of the predictions\n",
        "median_price = np.median(test_predictions_flat[~np.isnan(test_predictions_flat)])  # Calculate median ignoring NaNs\n",
        "test_predictions_flat = np.where(np.isnan(test_predictions_flat), median_price, test_predictions_flat)\n",
        "\n"
      ],
      "metadata": {
        "id": "kMsed89t4iHL"
      },
      "execution_count": 102,
      "outputs": []
    },
    {
      "cell_type": "code",
      "source": [
        "# Create a DataFrame for the results\n",
        "submission_df = pd.DataFrame({'id': ID_test, 'price': test_predictions_flat})\n",
        "\n",
        "# Ensure there are no null values in the final CSV\n",
        "submission_df['price'] = submission_df['price'].fillna(median_price)\n",
        "\n",
        "# Save predictions to a CSV file in the required format\n",
        "submission_df.to_csv('Test_Predictions_Keras_Adam_Final_2.csv', index=False)\n"
      ],
      "metadata": {
        "id": "hVAKtLqx4kHU"
      },
      "execution_count": 103,
      "outputs": []
    }
  ]
}