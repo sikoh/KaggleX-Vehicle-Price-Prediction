{
  "nbformat": 4,
  "nbformat_minor": 0,
  "metadata": {
    "colab": {
      "provenance": [],
      "authorship_tag": "ABX9TyO/kfOvMiqhJSTSi2icHM0z"
    },
    "kernelspec": {
      "name": "python3",
      "display_name": "Python 3"
    },
    "language_info": {
      "name": "python"
    }
  },
  "cells": [
    {
      "cell_type": "code",
      "source": [
        "!pip install category_encoders\n",
        "import pandas as pd\n",
        "import numpy as np\n",
        "from sklearn.model_selection import train_test_split\n",
        "from sklearn.preprocessing import StandardScaler\n",
        "from sklearn.impute import SimpleImputer\n",
        "import category_encoders as ce\n",
        "\n",
        "import re\n",
        "import tensorflow as tf\n",
        "from tensorflow.keras.models import Sequential\n",
        "from tensorflow.keras.layers import Dense, Dropout\n",
        "from tensorflow.keras.optimizers import Adam\n",
        "from tensorflow.keras.callbacks import EarlyStopping\n",
        "from sklearn.metrics import mean_squared_error, r2_score\n",
        "import matplotlib.pyplot as plt\n",
        "import os"
      ],
      "metadata": {
        "colab": {
          "base_uri": "https://localhost:8080/"
        },
        "id": "T3xmOsKht63k",
        "outputId": "3ae0ed16-62bf-4edf-f719-92c679fcaea2"
      },
      "execution_count": 3,
      "outputs": [
        {
          "output_type": "stream",
          "name": "stdout",
          "text": [
            "Collecting category_encoders\n",
            "  Downloading category_encoders-2.6.3-py2.py3-none-any.whl (81 kB)\n",
            "\u001b[2K     \u001b[90m━━━━━━━━━━━━━━━━━━━━━━━━━━━━━━━━━━━━━━━━\u001b[0m \u001b[32m81.9/81.9 kB\u001b[0m \u001b[31m822.6 kB/s\u001b[0m eta \u001b[36m0:00:00\u001b[0m\n",
            "\u001b[?25hRequirement already satisfied: numpy>=1.14.0 in /usr/local/lib/python3.10/dist-packages (from category_encoders) (1.25.2)\n",
            "Requirement already satisfied: scikit-learn>=0.20.0 in /usr/local/lib/python3.10/dist-packages (from category_encoders) (1.2.2)\n",
            "Requirement already satisfied: scipy>=1.0.0 in /usr/local/lib/python3.10/dist-packages (from category_encoders) (1.11.4)\n",
            "Requirement already satisfied: statsmodels>=0.9.0 in /usr/local/lib/python3.10/dist-packages (from category_encoders) (0.14.2)\n",
            "Requirement already satisfied: pandas>=1.0.5 in /usr/local/lib/python3.10/dist-packages (from category_encoders) (2.0.3)\n",
            "Requirement already satisfied: patsy>=0.5.1 in /usr/local/lib/python3.10/dist-packages (from category_encoders) (0.5.6)\n",
            "Requirement already satisfied: python-dateutil>=2.8.2 in /usr/local/lib/python3.10/dist-packages (from pandas>=1.0.5->category_encoders) (2.8.2)\n",
            "Requirement already satisfied: pytz>=2020.1 in /usr/local/lib/python3.10/dist-packages (from pandas>=1.0.5->category_encoders) (2023.4)\n",
            "Requirement already satisfied: tzdata>=2022.1 in /usr/local/lib/python3.10/dist-packages (from pandas>=1.0.5->category_encoders) (2024.1)\n",
            "Requirement already satisfied: six in /usr/local/lib/python3.10/dist-packages (from patsy>=0.5.1->category_encoders) (1.16.0)\n",
            "Requirement already satisfied: joblib>=1.1.1 in /usr/local/lib/python3.10/dist-packages (from scikit-learn>=0.20.0->category_encoders) (1.4.2)\n",
            "Requirement already satisfied: threadpoolctl>=2.0.0 in /usr/local/lib/python3.10/dist-packages (from scikit-learn>=0.20.0->category_encoders) (3.5.0)\n",
            "Requirement already satisfied: packaging>=21.3 in /usr/local/lib/python3.10/dist-packages (from statsmodels>=0.9.0->category_encoders) (24.1)\n",
            "Installing collected packages: category_encoders\n",
            "Successfully installed category_encoders-2.6.3\n"
          ]
        }
      ]
    },
    {
      "cell_type": "code",
      "source": [
        "# Load the data\n",
        "train_df = pd.read_csv('/content/train.csv')\n",
        "test_df = pd.read_csv('/content/test.csv')"
      ],
      "metadata": {
        "id": "LVAt5-GfuCNG"
      },
      "execution_count": 41,
      "outputs": []
    },
    {
      "cell_type": "code",
      "source": [
        "# Function to limit categories to the top 5 most common\n",
        "def limit_categories(df, column):\n",
        "    top_5 = df[column].value_counts().index[:5]\n",
        "    df[column] = df[column].apply(lambda x: x if x in top_5 else 'Other')\n",
        "    return df\n",
        "\n",
        "# Apply the function to both int_col and ext_col in train and test datasets\n",
        "train_df = limit_categories(train_df, 'int_col')\n",
        "train_df = limit_categories(train_df, 'ext_col')\n",
        "test_df = limit_categories(test_df, 'int_col')\n",
        "test_df = limit_categories(test_df, 'ext_col')\n"
      ],
      "metadata": {
        "id": "OPSyEzdk18Ro"
      },
      "execution_count": 42,
      "outputs": []
    },
    {
      "cell_type": "code",
      "source": [
        "# Extract numerical values from the engine column\n",
        "def extract_engine_power(engine_str):\n",
        "    match = re.search(r'(\\d+(\\.\\d+)?)HP', engine_str)\n",
        "    if match:\n",
        "        return float(match.group(1))\n",
        "    return 0\n",
        "\n",
        "train_df['engine_power'] = train_df['engine'].apply(extract_engine_power)\n",
        "test_df['engine_power'] = test_df['engine'].apply(extract_engine_power)\n",
        "\n",
        "# Drop the original engine column\n",
        "train_df.drop(columns=['engine'], inplace=True)\n",
        "test_df.drop(columns=['engine'], inplace=True)\n"
      ],
      "metadata": {
        "id": "MGCvD7of1-WH"
      },
      "execution_count": 43,
      "outputs": []
    },
    {
      "cell_type": "code",
      "source": [
        "# Add age of the car\n",
        "train_df['age'] = 2024 - train_df['model_year']\n",
        "test_df['age'] = 2024 - test_df['model_year']\n"
      ],
      "metadata": {
        "id": "cbAp0V-t2Bmc"
      },
      "execution_count": 44,
      "outputs": []
    },
    {
      "cell_type": "code",
      "source": [
        "# Remove outliers based on the price column\n",
        "q1 = train_df['price'].quantile(0.25)\n",
        "q3 = train_df['price'].quantile(0.75)\n",
        "iqr = q3 - q1\n",
        "lower_bound = q1 - 1.5 * iqr\n",
        "upper_bound = q3 + 1.5 * iqr\n",
        "train_df = train_df[(train_df['price'] >= lower_bound) & (train_df['price'] <= upper_bound)]"
      ],
      "metadata": {
        "id": "B8hVEc_E2Fnv"
      },
      "execution_count": 45,
      "outputs": []
    },
    {
      "cell_type": "code",
      "source": [
        "# Separate numeric and categorical columns, excluding 'price' from test set\n",
        "numeric_cols = train_df.select_dtypes(include=[np.number]).columns.tolist()\n",
        "numeric_cols.remove('price')  # Remove 'price' since it's not in test_df\n",
        "categorical_cols = train_df.select_dtypes(exclude=[np.number]).columns.tolist()\n"
      ],
      "metadata": {
        "id": "W93rSJbZ2ZoL"
      },
      "execution_count": 46,
      "outputs": []
    },
    {
      "cell_type": "code",
      "source": [
        "# Separate the target column from the training set\n",
        "y = train_df['price']\n",
        "X_train_full = train_df.drop(columns=['price'])\n"
      ],
      "metadata": {
        "id": "pqNj7sqs2cYN"
      },
      "execution_count": 47,
      "outputs": []
    },
    {
      "cell_type": "code",
      "source": [
        "# Encoding categorical variables\n",
        "encoder = ce.OneHotEncoder(cols=categorical_cols, handle_unknown='ignore', use_cat_names=True)\n",
        "X_train_encoded = encoder.fit_transform(X_train_full)\n",
        "X_test_encoded = encoder.transform(test_df)\n"
      ],
      "metadata": {
        "id": "MM09pWce2mLi"
      },
      "execution_count": 48,
      "outputs": []
    },
    {
      "cell_type": "code",
      "source": [
        "# Standardize numerical features\n",
        "scaler = StandardScaler()\n",
        "X_train_encoded = scaler.fit_transform(X_train_encoded)\n",
        "X_test_encoded = scaler.transform(X_test_encoded)\n"
      ],
      "metadata": {
        "id": "b1yLNeE72ud2"
      },
      "execution_count": 49,
      "outputs": []
    },
    {
      "cell_type": "code",
      "source": [
        "# Train-test split\n",
        "X_train, X_val, y_train, y_val = train_test_split(X_train_encoded, y, test_size=0.2, random_state=42)\n"
      ],
      "metadata": {
        "id": "XXj7dk0r20-q"
      },
      "execution_count": 50,
      "outputs": []
    },
    {
      "cell_type": "code",
      "source": [
        "# Build the Keras model\n",
        "model = Sequential([\n",
        "    Dense(256, input_dim=X_train.shape[1], activation='relu'),\n",
        "    Dropout(0.3),\n",
        "    Dense(128, activation='relu'),\n",
        "    Dropout(0.3),\n",
        "    Dense(64, activation='relu'),\n",
        "    Dropout(0.3),\n",
        "    Dense(1, activation='linear')\n",
        "])"
      ],
      "metadata": {
        "id": "kV4s3sOi3FSJ"
      },
      "execution_count": 51,
      "outputs": []
    },
    {
      "cell_type": "code",
      "source": [
        "# Compile the model\n",
        "model.compile(optimizer=Adam(learning_rate=0.001), loss='mse', metrics=['mse'])\n"
      ],
      "metadata": {
        "id": "xKCJZlMN3JTv"
      },
      "execution_count": 52,
      "outputs": []
    },
    {
      "cell_type": "code",
      "source": [
        "\n",
        "# Early stopping\n",
        "early_stopping = EarlyStopping(monitor='val_loss', patience=10, restore_best_weights=True)\n",
        "\n",
        "# Train the model\n",
        "history = model.fit(X_train, y_train, validation_data=(X_val, y_val), epochs=100, batch_size=32, callbacks=[early_stopping])\n"
      ],
      "metadata": {
        "colab": {
          "base_uri": "https://localhost:8080/"
        },
        "id": "3xJhB7ds3Nz-",
        "outputId": "03ca2716-8169-4fee-ade2-9d5d0bba704e"
      },
      "execution_count": 53,
      "outputs": [
        {
          "output_type": "stream",
          "name": "stdout",
          "text": [
            "Epoch 1/100\n",
            "1280/1280 [==============================] - 14s 10ms/step - loss: 459430784.0000 - mse: 459430784.0000 - val_loss: 285051776.0000 - val_mse: 285051776.0000\n",
            "Epoch 2/100\n",
            "1280/1280 [==============================] - 16s 13ms/step - loss: 275679552.0000 - mse: 275679552.0000 - val_loss: 226115456.0000 - val_mse: 226115456.0000\n",
            "Epoch 3/100\n",
            "1280/1280 [==============================] - 15s 12ms/step - loss: 236005600.0000 - mse: 236005600.0000 - val_loss: 195182656.0000 - val_mse: 195182656.0000\n",
            "Epoch 4/100\n",
            "1280/1280 [==============================] - 14s 11ms/step - loss: 213734768.0000 - mse: 213734768.0000 - val_loss: 177392672.0000 - val_mse: 177392672.0000\n",
            "Epoch 5/100\n",
            "1280/1280 [==============================] - 15s 12ms/step - loss: 198999536.0000 - mse: 198999536.0000 - val_loss: 162866416.0000 - val_mse: 162866416.0000\n",
            "Epoch 6/100\n",
            "1280/1280 [==============================] - 19s 15ms/step - loss: 186472560.0000 - mse: 186472560.0000 - val_loss: 154029024.0000 - val_mse: 154029024.0000\n",
            "Epoch 7/100\n",
            "1280/1280 [==============================] - 15s 12ms/step - loss: 178701760.0000 - mse: 178701760.0000 - val_loss: 148007856.0000 - val_mse: 148007856.0000\n",
            "Epoch 8/100\n",
            "1280/1280 [==============================] - 12s 10ms/step - loss: 173504480.0000 - mse: 173504480.0000 - val_loss: 144818080.0000 - val_mse: 144818080.0000\n",
            "Epoch 9/100\n",
            "1280/1280 [==============================] - 12s 10ms/step - loss: 166216688.0000 - mse: 166216688.0000 - val_loss: 139574528.0000 - val_mse: 139574528.0000\n",
            "Epoch 10/100\n",
            "1280/1280 [==============================] - 13s 10ms/step - loss: 163941552.0000 - mse: 163941552.0000 - val_loss: 138293136.0000 - val_mse: 138293136.0000\n",
            "Epoch 11/100\n",
            "1280/1280 [==============================] - 13s 10ms/step - loss: 160775200.0000 - mse: 160775200.0000 - val_loss: 137133536.0000 - val_mse: 137133536.0000\n",
            "Epoch 12/100\n",
            "1280/1280 [==============================] - 13s 10ms/step - loss: 157526928.0000 - mse: 157526928.0000 - val_loss: 134677312.0000 - val_mse: 134677312.0000\n",
            "Epoch 13/100\n",
            "1280/1280 [==============================] - 13s 11ms/step - loss: 156718256.0000 - mse: 156718256.0000 - val_loss: 135465888.0000 - val_mse: 135465888.0000\n",
            "Epoch 14/100\n",
            "1280/1280 [==============================] - 12s 10ms/step - loss: 154036128.0000 - mse: 154036128.0000 - val_loss: 134038112.0000 - val_mse: 134038112.0000\n",
            "Epoch 15/100\n",
            "1280/1280 [==============================] - 18s 14ms/step - loss: 152422976.0000 - mse: 152422976.0000 - val_loss: 132911992.0000 - val_mse: 132911992.0000\n",
            "Epoch 16/100\n",
            "1280/1280 [==============================] - 18s 14ms/step - loss: 152581504.0000 - mse: 152581504.0000 - val_loss: 133581024.0000 - val_mse: 133581024.0000\n",
            "Epoch 17/100\n",
            "1280/1280 [==============================] - 13s 10ms/step - loss: 150474464.0000 - mse: 150474464.0000 - val_loss: 132445528.0000 - val_mse: 132445528.0000\n",
            "Epoch 18/100\n",
            "1280/1280 [==============================] - 13s 10ms/step - loss: 149897296.0000 - mse: 149897296.0000 - val_loss: 131367376.0000 - val_mse: 131367376.0000\n",
            "Epoch 19/100\n",
            "1280/1280 [==============================] - 14s 11ms/step - loss: 149003200.0000 - mse: 149003200.0000 - val_loss: 131966912.0000 - val_mse: 131966912.0000\n",
            "Epoch 20/100\n",
            "1280/1280 [==============================] - 21s 16ms/step - loss: 147534752.0000 - mse: 147534752.0000 - val_loss: 131887792.0000 - val_mse: 131887792.0000\n",
            "Epoch 21/100\n",
            "1280/1280 [==============================] - 13s 10ms/step - loss: 147269808.0000 - mse: 147269808.0000 - val_loss: 132529120.0000 - val_mse: 132529120.0000\n",
            "Epoch 22/100\n",
            "1280/1280 [==============================] - 13s 10ms/step - loss: 146697856.0000 - mse: 146697856.0000 - val_loss: 134216896.0000 - val_mse: 134216896.0000\n",
            "Epoch 23/100\n",
            "1280/1280 [==============================] - 14s 11ms/step - loss: 145855696.0000 - mse: 145855696.0000 - val_loss: 132749856.0000 - val_mse: 132749856.0000\n",
            "Epoch 24/100\n",
            "1280/1280 [==============================] - 18s 14ms/step - loss: 144685152.0000 - mse: 144685152.0000 - val_loss: 133626752.0000 - val_mse: 133626752.0000\n",
            "Epoch 25/100\n",
            "1280/1280 [==============================] - 14s 11ms/step - loss: 145405280.0000 - mse: 145405280.0000 - val_loss: 137150608.0000 - val_mse: 137150608.0000\n",
            "Epoch 26/100\n",
            "1280/1280 [==============================] - 18s 14ms/step - loss: 142819632.0000 - mse: 142819632.0000 - val_loss: 148762480.0000 - val_mse: 148762480.0000\n",
            "Epoch 27/100\n",
            "1280/1280 [==============================] - 16s 13ms/step - loss: 141982944.0000 - mse: 141982944.0000 - val_loss: 146327680.0000 - val_mse: 146327680.0000\n",
            "Epoch 28/100\n",
            "1280/1280 [==============================] - 13s 10ms/step - loss: 141998656.0000 - mse: 141998656.0000 - val_loss: 151132720.0000 - val_mse: 151132720.0000\n"
          ]
        }
      ]
    },
    {
      "cell_type": "code",
      "source": [
        "# Evaluate the model\n",
        "val_predictions = model.predict(X_val)\n",
        "mse = mean_squared_error(y_val, val_predictions)\n",
        "r2 = r2_score(y_val, val_predictions)\n",
        "\n",
        "print(f'MSE: {mse}')\n",
        "print(f'R2 Score: {r2}')\n"
      ],
      "metadata": {
        "colab": {
          "base_uri": "https://localhost:8080/"
        },
        "id": "LBRoVFNP3UIH",
        "outputId": "d33c4271-ce56-40fd-f502-4c612f2e1f01"
      },
      "execution_count": 54,
      "outputs": [
        {
          "output_type": "stream",
          "name": "stdout",
          "text": [
            "320/320 [==============================] - 1s 3ms/step\n",
            "MSE: 131367369.92504933\n",
            "R2 Score: 0.6414405870197979\n"
          ]
        }
      ]
    },
    {
      "cell_type": "code",
      "source": [
        "# Plot training & validation loss values\n",
        "plt.plot(history.history['loss'])\n",
        "plt.plot(history.history['val_loss'])\n",
        "plt.title('Model loss')\n",
        "plt.ylabel('Loss')\n",
        "plt.xlabel('Epoch')\n",
        "plt.legend(['Train', 'Validation'], loc='upper left')\n",
        "plt.show()\n",
        "\n",
        "\n"
      ],
      "metadata": {
        "colab": {
          "base_uri": "https://localhost:8080/",
          "height": 472
        },
        "id": "9Pbj0sgO3gGp",
        "outputId": "558cb3de-8f55-4c91-9414-452389165e99"
      },
      "execution_count": 55,
      "outputs": [
        {
          "output_type": "display_data",
          "data": {
            "text/plain": [
              "<Figure size 640x480 with 1 Axes>"
            ],
            "image/png": "[encoded data removed]"
          },
          "metadata": {}
        }
      ]
    },
    {
      "cell_type": "code",
      "source": [
        "# Make predictions on the test set\n",
        "test_predictions = model.predict(X_test_encoded)\n",
        "\n"
      ],
      "metadata": {
        "colab": {
          "base_uri": "https://localhost:8080/"
        },
        "id": "HK5F-zz_3nOP",
        "outputId": "1840ba7a-659c-451f-8c88-a69246a897d0"
      },
      "execution_count": 56,
      "outputs": [
        {
          "output_type": "stream",
          "name": "stdout",
          "text": [
            "1131/1131 [==============================] - 3s 3ms/step\n"
          ]
        }
      ]
    },
    {
      "cell_type": "code",
      "source": [
        "# Flatten predictions array to 1D\n",
        "test_predictions_flat = test_predictions.flatten()\n",
        "\n",
        "# Replace any missing values in the predictions with the median of the predictions\n",
        "median_price = np.median(test_predictions_flat[~np.isnan(test_predictions_flat)])  # Calculate median ignoring NaNs\n",
        "test_predictions_flat = np.where(np.isnan(test_predictions_flat), median_price, test_predictions_flat)\n",
        "\n"
      ],
      "metadata": {
        "id": "kMsed89t4iHL"
      },
      "execution_count": 57,
      "outputs": []
    },
    {
      "cell_type": "code",
      "source": [
        "# Create a DataFrame for the results\n",
        "submission_df = pd.DataFrame({'id': test_df['id'], 'price': test_predictions_flat})\n",
        "\n",
        "# Ensure there are no null values in the final CSV\n",
        "submission_df['price'] = submission_df['price'].fillna(median_price)\n",
        "\n",
        "# Save predictions to a CSV file in the required format\n",
        "submission_df.to_csv('Test_Predictions_Keras_Adam_Final.csv', index=False)\n"
      ],
      "metadata": {
        "id": "hVAKtLqx4kHU"
      },
      "execution_count": 58,
      "outputs": []
    }
  ]
}